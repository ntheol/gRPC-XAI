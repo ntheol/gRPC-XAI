{
 "cells": [
  {
   "cell_type": "markdown",
   "metadata": {},
   "source": [
    "## Phising Dataset\n",
    "\n",
    "To collect the dataset, we have deployed multiple agents and soluble agents within an infrastructure with\n",
    "more than 3k entities, comprising laptops, workstations, and smartphone devices. <br> The methods to build\n",
    "ground truth are as follows:\n",
    "\n",
    "- Simulator: We launch different realistic phishing campaigns, aiming to expose user credentials or defeat access to a service.\n",
    "- IDS: We deploy an IDS to collect various alerts associated with behavioral anomalies, such as cryptomining or peer-to-peer traffic.\n",
    "\n",
    "For each user exposed to the behaviors stated in the summary table, different TW is computed, aggregating\n",
    "user behavior within a fixed time interval. <br> This TW serves as the basis for generating various supervised\n",
    "and unsupervised methods."
   ]
  },
  {
   "cell_type": "markdown",
   "metadata": {},
   "source": [
    "## Time window representation \n",
    "\n",
    "The time windows (TW) are a data representation based on aggregated logs from multimodal sources between two\n",
    "timestamps. <br> In this study, logs from HTTP, DNS, SSL, and SMTP are taken into consideration, allowing the\n",
    "construction of rich behavioral profiles. <br> The indicators described in the TE are a set of manually curated\n",
    "interpretable features designed to describe device-level properties within the specified time frame."
   ]
  },
  {
   "cell_type": "code",
   "execution_count": 1,
   "metadata": {},
   "outputs": [],
   "source": [
    "import pandas as pd\n",
    "from sklearn.model_selection import GridSearchCV\n",
    "import xgboost as xgb\n",
    "from sklearn.model_selection import StratifiedKFold\n",
    "from sklearn.pipeline import Pipeline\n",
    "from sklearn.preprocessing import StandardScaler,RobustScaler,MinMaxScaler\n",
    "from modules.lib_IF import *\n",
    "from modules.lib import *\n",
    "from modules.optimizer import *\n",
    "from xai_client import Client\n",
    "import json\n",
    "import io"
   ]
  },
  {
   "cell_type": "code",
   "execution_count": 2,
   "metadata": {},
   "outputs": [],
   "source": [
    "entity = \"desktop\" #desktop or smartphone\n",
    "threat = \"phishing_behaviour\" \n",
    "path_dataset = f'data/Risky Behaviour Datasets/{threat}/min_windows_size_6/{entity}_features.pckl'\n",
    "seed = 42\n",
    "dataset = pd.read_pickle(path_dataset)"
   ]
  },
  {
   "cell_type": "code",
   "execution_count": 3,
   "metadata": {},
   "outputs": [
    {
     "data": {
      "text/html": [
       "<div>\n",
       "<style scoped>\n",
       "    .dataframe tbody tr th:only-of-type {\n",
       "        vertical-align: middle;\n",
       "    }\n",
       "\n",
       "    .dataframe tbody tr th {\n",
       "        vertical-align: top;\n",
       "    }\n",
       "\n",
       "    .dataframe thead th {\n",
       "        text-align: right;\n",
       "    }\n",
       "</style>\n",
       "<table border=\"1\" class=\"dataframe\">\n",
       "  <thead>\n",
       "    <tr style=\"text-align: right;\">\n",
       "      <th></th>\n",
       "      <th>dns_interlog_time_q1</th>\n",
       "      <th>dns_interlog_time_q2</th>\n",
       "      <th>dns_interlog_time_q3</th>\n",
       "      <th>dns_interlog_time_q4</th>\n",
       "      <th>dns_interlog_time_q5</th>\n",
       "      <th>ssl_interlog_time_q1</th>\n",
       "      <th>ssl_interlog_time_q2</th>\n",
       "      <th>ssl_interlog_time_q3</th>\n",
       "      <th>ssl_interlog_time_q4</th>\n",
       "      <th>ssl_interlog_time_q5</th>\n",
       "      <th>...</th>\n",
       "      <th>non_working_days_dns</th>\n",
       "      <th>non_working_days_http</th>\n",
       "      <th>non_working_days_ssl</th>\n",
       "      <th>non_working_hours_dns</th>\n",
       "      <th>non_working_hours_http</th>\n",
       "      <th>non_working_hours_ssl</th>\n",
       "      <th>entity</th>\n",
       "      <th>label</th>\n",
       "      <th>user_id</th>\n",
       "      <th>timestamp</th>\n",
       "    </tr>\n",
       "  </thead>\n",
       "  <tbody>\n",
       "    <tr>\n",
       "      <th>0</th>\n",
       "      <td>3.0</td>\n",
       "      <td>0.0</td>\n",
       "      <td>0.0</td>\n",
       "      <td>0.0</td>\n",
       "      <td>0.0</td>\n",
       "      <td>14.0</td>\n",
       "      <td>0.0</td>\n",
       "      <td>0.0</td>\n",
       "      <td>0.0</td>\n",
       "      <td>0.0</td>\n",
       "      <td>...</td>\n",
       "      <td>0.0</td>\n",
       "      <td>0.0</td>\n",
       "      <td>0.0</td>\n",
       "      <td>0.166667</td>\n",
       "      <td>0.166667</td>\n",
       "      <td>0.166667</td>\n",
       "      <td>0</td>\n",
       "      <td>-1</td>\n",
       "      <td>5c9f3e1a089abe89c69185dac47f4e6c2664b8b2d33492...</td>\n",
       "      <td>2022-10-14 05:00:00</td>\n",
       "    </tr>\n",
       "    <tr>\n",
       "      <th>0</th>\n",
       "      <td>13.0</td>\n",
       "      <td>0.0</td>\n",
       "      <td>0.0</td>\n",
       "      <td>0.0</td>\n",
       "      <td>0.0</td>\n",
       "      <td>14.0</td>\n",
       "      <td>0.0</td>\n",
       "      <td>0.0</td>\n",
       "      <td>0.0</td>\n",
       "      <td>0.0</td>\n",
       "      <td>...</td>\n",
       "      <td>0.0</td>\n",
       "      <td>0.0</td>\n",
       "      <td>0.0</td>\n",
       "      <td>0.333333</td>\n",
       "      <td>0.166667</td>\n",
       "      <td>0.166667</td>\n",
       "      <td>0</td>\n",
       "      <td>-1</td>\n",
       "      <td>5c9f3e1a089abe89c69185dac47f4e6c2664b8b2d33492...</td>\n",
       "      <td>2022-10-14 05:10:00</td>\n",
       "    </tr>\n",
       "    <tr>\n",
       "      <th>0</th>\n",
       "      <td>29.0</td>\n",
       "      <td>0.0</td>\n",
       "      <td>0.0</td>\n",
       "      <td>0.0</td>\n",
       "      <td>0.0</td>\n",
       "      <td>14.0</td>\n",
       "      <td>0.0</td>\n",
       "      <td>0.0</td>\n",
       "      <td>0.0</td>\n",
       "      <td>0.0</td>\n",
       "      <td>...</td>\n",
       "      <td>0.0</td>\n",
       "      <td>0.0</td>\n",
       "      <td>0.0</td>\n",
       "      <td>0.500000</td>\n",
       "      <td>0.166667</td>\n",
       "      <td>0.166667</td>\n",
       "      <td>0</td>\n",
       "      <td>-1</td>\n",
       "      <td>5c9f3e1a089abe89c69185dac47f4e6c2664b8b2d33492...</td>\n",
       "      <td>2022-10-14 05:20:00</td>\n",
       "    </tr>\n",
       "    <tr>\n",
       "      <th>0</th>\n",
       "      <td>26.0</td>\n",
       "      <td>0.0</td>\n",
       "      <td>0.0</td>\n",
       "      <td>0.0</td>\n",
       "      <td>0.0</td>\n",
       "      <td>0.0</td>\n",
       "      <td>0.0</td>\n",
       "      <td>0.0</td>\n",
       "      <td>0.0</td>\n",
       "      <td>0.0</td>\n",
       "      <td>...</td>\n",
       "      <td>0.0</td>\n",
       "      <td>0.0</td>\n",
       "      <td>0.0</td>\n",
       "      <td>0.333333</td>\n",
       "      <td>0.000000</td>\n",
       "      <td>0.000000</td>\n",
       "      <td>0</td>\n",
       "      <td>-1</td>\n",
       "      <td>5c9f3e1a089abe89c69185dac47f4e6c2664b8b2d33492...</td>\n",
       "      <td>2022-10-14 06:00:00</td>\n",
       "    </tr>\n",
       "    <tr>\n",
       "      <th>0</th>\n",
       "      <td>16.0</td>\n",
       "      <td>0.0</td>\n",
       "      <td>0.0</td>\n",
       "      <td>0.0</td>\n",
       "      <td>0.0</td>\n",
       "      <td>0.0</td>\n",
       "      <td>0.0</td>\n",
       "      <td>0.0</td>\n",
       "      <td>0.0</td>\n",
       "      <td>0.0</td>\n",
       "      <td>...</td>\n",
       "      <td>0.0</td>\n",
       "      <td>0.0</td>\n",
       "      <td>0.0</td>\n",
       "      <td>0.166667</td>\n",
       "      <td>0.000000</td>\n",
       "      <td>0.000000</td>\n",
       "      <td>0</td>\n",
       "      <td>-1</td>\n",
       "      <td>5c9f3e1a089abe89c69185dac47f4e6c2664b8b2d33492...</td>\n",
       "      <td>2022-10-14 06:10:00</td>\n",
       "    </tr>\n",
       "  </tbody>\n",
       "</table>\n",
       "<p>5 rows × 85 columns</p>\n",
       "</div>"
      ],
      "text/plain": [
       "   dns_interlog_time_q1  dns_interlog_time_q2  dns_interlog_time_q3  \\\n",
       "0                   3.0                   0.0                   0.0   \n",
       "0                  13.0                   0.0                   0.0   \n",
       "0                  29.0                   0.0                   0.0   \n",
       "0                  26.0                   0.0                   0.0   \n",
       "0                  16.0                   0.0                   0.0   \n",
       "\n",
       "   dns_interlog_time_q4  dns_interlog_time_q5  ssl_interlog_time_q1  \\\n",
       "0                   0.0                   0.0                  14.0   \n",
       "0                   0.0                   0.0                  14.0   \n",
       "0                   0.0                   0.0                  14.0   \n",
       "0                   0.0                   0.0                   0.0   \n",
       "0                   0.0                   0.0                   0.0   \n",
       "\n",
       "   ssl_interlog_time_q2  ssl_interlog_time_q3  ssl_interlog_time_q4  \\\n",
       "0                   0.0                   0.0                   0.0   \n",
       "0                   0.0                   0.0                   0.0   \n",
       "0                   0.0                   0.0                   0.0   \n",
       "0                   0.0                   0.0                   0.0   \n",
       "0                   0.0                   0.0                   0.0   \n",
       "\n",
       "   ssl_interlog_time_q5  ...  non_working_days_dns  non_working_days_http  \\\n",
       "0                   0.0  ...                   0.0                    0.0   \n",
       "0                   0.0  ...                   0.0                    0.0   \n",
       "0                   0.0  ...                   0.0                    0.0   \n",
       "0                   0.0  ...                   0.0                    0.0   \n",
       "0                   0.0  ...                   0.0                    0.0   \n",
       "\n",
       "   non_working_days_ssl  non_working_hours_dns  non_working_hours_http  \\\n",
       "0                   0.0               0.166667                0.166667   \n",
       "0                   0.0               0.333333                0.166667   \n",
       "0                   0.0               0.500000                0.166667   \n",
       "0                   0.0               0.333333                0.000000   \n",
       "0                   0.0               0.166667                0.000000   \n",
       "\n",
       "   non_working_hours_ssl  entity  label  \\\n",
       "0               0.166667       0     -1   \n",
       "0               0.166667       0     -1   \n",
       "0               0.166667       0     -1   \n",
       "0               0.000000       0     -1   \n",
       "0               0.000000       0     -1   \n",
       "\n",
       "                                             user_id           timestamp  \n",
       "0  5c9f3e1a089abe89c69185dac47f4e6c2664b8b2d33492... 2022-10-14 05:00:00  \n",
       "0  5c9f3e1a089abe89c69185dac47f4e6c2664b8b2d33492... 2022-10-14 05:10:00  \n",
       "0  5c9f3e1a089abe89c69185dac47f4e6c2664b8b2d33492... 2022-10-14 05:20:00  \n",
       "0  5c9f3e1a089abe89c69185dac47f4e6c2664b8b2d33492... 2022-10-14 06:00:00  \n",
       "0  5c9f3e1a089abe89c69185dac47f4e6c2664b8b2d33492... 2022-10-14 06:10:00  \n",
       "\n",
       "[5 rows x 85 columns]"
      ]
     },
     "execution_count": 3,
     "metadata": {},
     "output_type": "execute_result"
    }
   ],
   "source": [
    "dataset.head()"
   ]
  },
  {
   "cell_type": "markdown",
   "metadata": {},
   "source": [
    "#### Load and split dataset based on the unique users"
   ]
  },
  {
   "cell_type": "code",
   "execution_count": 4,
   "metadata": {},
   "outputs": [],
   "source": [
    "from sklearn.model_selection import train_test_split\n",
    "\n",
    "\n",
    "unique_users = dataset.loc[dataset[\"label\"] != -1, 'user_id'].unique()\n",
    "# Split user IDs into train_test and validation sets\n",
    "# We fix validation dataset to be always the same by fixing the random state, the rest changes\n",
    "users_train_test, users_validation = train_test_split(unique_users, test_size=0.3, random_state=seed)\n",
    "\n",
    "data_train_test = dataset[dataset['user_id'].isin(users_train_test)]\n",
    "data_validation_labeled = dataset[dataset['user_id'].isin(users_validation)]\n"
   ]
  },
  {
   "cell_type": "code",
   "execution_count": 5,
   "metadata": {},
   "outputs": [
    {
     "data": {
      "text/plain": [
       "0    1883\n",
       "1     922\n",
       "Name: label, dtype: int64"
      ]
     },
     "execution_count": 5,
     "metadata": {},
     "output_type": "execute_result"
    }
   ],
   "source": [
    "data_validation_labeled.label.value_counts()"
   ]
  },
  {
   "cell_type": "code",
   "execution_count": 6,
   "metadata": {},
   "outputs": [],
   "source": [
    "data_train_test = data_train_test.drop(columns=[\"timestamp\", \"user_id\", \"entity\"])"
   ]
  },
  {
   "cell_type": "code",
   "execution_count": 7,
   "metadata": {},
   "outputs": [],
   "source": [
    "data_validation_labeled = data_validation_labeled.drop(columns=[\"timestamp\", \"user_id\", \"entity\"])"
   ]
  },
  {
   "cell_type": "markdown",
   "metadata": {},
   "source": [
    "### Model creation and Training"
   ]
  },
  {
   "cell_type": "code",
   "execution_count": 8,
   "metadata": {},
   "outputs": [],
   "source": [
    "import numpy as np\n",
    "cat_columns = data_train_test.select_dtypes(exclude=[np.number]).columns.tolist()\n",
    "numeric_columns = data_train_test.drop(columns='label').select_dtypes(exclude=['object']).columns.tolist()"
   ]
  },
  {
   "cell_type": "code",
   "execution_count": 9,
   "metadata": {},
   "outputs": [],
   "source": [
    "numerical_transformer = Pipeline([\n",
    "    ('scaler', StandardScaler())\n",
    "])\n",
    "\n",
    "preprocessor = ColumnTransformer(\n",
    "    transformers=[\n",
    "        ('num', numerical_transformer,numeric_columns),\n",
    "    ])\n",
    "\n",
    "hyperparameters = {'Model__max_depth': (2, 4, 6, 10,15),\n",
    "                                'Model__min_child_weight': (1, 3, 5 ,10),\n",
    "                                'Model__learning_rate': [0.001, 0.01, 0.1],\n",
    "                                'Model__n_estimators': (25, 50, 75 , 100, 150, 300),\n",
    "                                \"preprocessor__num__scaler\": [StandardScaler(), MinMaxScaler(),RobustScaler()]}\n",
    "\n",
    "ml_pipeline = Pipeline([(\"preprocessor\", preprocessor),\n",
    "                        (\"Model\", xgb.XGBClassifier())])\n",
    "\n",
    "optimizer = ModelOptimizer(ml_pipeline,param_grid=hyperparameters,optimization_algorithm='grid_search')\n",
    "opt = optimizer.optimize(data_train_test.drop(columns='label'),data_train_test.label)"
   ]
  },
  {
   "cell_type": "code",
   "execution_count": 9,
   "metadata": {},
   "outputs": [],
   "source": [
    "hyperparameters = {'Model__max_depth': (2, 4, 6, 10),\n",
    "                                'Model__min_child_weight': (1, 3),\n",
    "                                'Model__learning_rate': [0.001, 0.01, 0.1],\n",
    "                                'Model__n_estimators': (25, 50, 75 , 100),\n",
    "                                \"preprocessor__num__scaler\": [StandardScaler(), MinMaxScaler(),RobustScaler()]}"
   ]
  },
  {
   "cell_type": "code",
   "execution_count": 10,
   "metadata": {},
   "outputs": [],
   "source": [
    "import joblib\n",
    "\n",
    "opt = joblib.load('proxy_data_models/phising_fullgrid.pkl')"
   ]
  },
  {
   "cell_type": "code",
   "execution_count": 11,
   "metadata": {},
   "outputs": [
    {
     "data": {
      "text/plain": [
       "['phising_fullgrid_big.pkl']"
      ]
     },
     "execution_count": 11,
     "metadata": {},
     "output_type": "execute_result"
    }
   ],
   "source": [
    "import joblib\n",
    "\n",
    "\n",
    "joblib.dump(opt, 'phising_fullgrid_big.pkl')"
   ]
  },
  {
   "cell_type": "code",
   "execution_count": 12,
   "metadata": {},
   "outputs": [
    {
     "name": "stdout",
     "output_type": "stream",
     "text": [
      "Accuracy Score is 0.647415329768271\n"
     ]
    },
    {
     "data": {
      "image/png": "[encoded data removed]",
      "text/plain": [
       "<Figure size 640x480 with 2 Axes>"
      ]
     },
     "metadata": {},
     "output_type": "display_data"
    }
   ],
   "source": [
    "from sklearn.metrics import accuracy_score\n",
    "from sklearn.metrics import confusion_matrix, ConfusionMatrixDisplay\n",
    "from sklearn.metrics import confusion_matrix\n",
    "\n",
    "test = data_validation_labeled.drop(columns='label')\n",
    "test_labels = data_validation_labeled.label\n",
    "best_model = opt.best_estimator_\n",
    "pred_y_test = best_model.predict(test)\n",
    "\n",
    "print(f'Accuracy Score is {accuracy_score(test_labels,pred_y_test)}')\n",
    "cm = confusion_matrix(test_labels, pred_y_test)\n",
    "disp = ConfusionMatrixDisplay(confusion_matrix=cm)\n",
    "disp.plot();"
   ]
  },
  {
   "cell_type": "code",
   "execution_count": 15,
   "metadata": {},
   "outputs": [],
   "source": [
    "cm = pd.DataFrame(cm, columns=['Predicted Negative', 'Predicted Positive'], index=['Actual Negative', 'Actual Positive'])"
   ]
  },
  {
   "cell_type": "code",
   "execution_count": 16,
   "metadata": {},
   "outputs": [
    {
     "name": "stdout",
     "output_type": "stream",
     "text": [
      "              precision    recall  f1-score   support\n",
      "\n",
      "           0       0.71      0.79      0.75      1883\n",
      "           1       0.45      0.35      0.40       922\n",
      "\n",
      "    accuracy                           0.65      2805\n",
      "   macro avg       0.58      0.57      0.57      2805\n",
      "weighted avg       0.63      0.65      0.63      2805\n",
      "\n"
     ]
    }
   ],
   "source": [
    "from sklearn.metrics import classification_report\n",
    "print(classification_report(test_labels, pred_y_test))"
   ]
  },
  {
   "cell_type": "code",
   "execution_count": 17,
   "metadata": {},
   "outputs": [],
   "source": [
    "classification_report = pd.DataFrame(classification_report(test_labels, pred_y_test,output_dict=True)).transpose()"
   ]
  },
  {
   "cell_type": "markdown",
   "metadata": {},
   "source": [
    "## Proxy Model PDP-ALE and Counterfactual Explanations"
   ]
  },
  {
   "cell_type": "code",
   "execution_count": 18,
   "metadata": {},
   "outputs": [],
   "source": [
    "missclassified = pd.concat([test, test_labels.rename('GroundTruth')], axis=1).reset_index(drop=True)\n",
    "missclassified['Predicted'] = pred_y_test"
   ]
  },
  {
   "cell_type": "code",
   "execution_count": 19,
   "metadata": {},
   "outputs": [],
   "source": [
    "def find_false_instances(test_df, false_positive=True):\n",
    "    \"\"\"\n",
    "    Find false positive or false negative instances from the test data of a machine learning model.\n",
    "\n",
    "    Args:\n",
    "    - test_df (DataFrame): The test dataframe containing 'predicted' and 'actual' columns.\n",
    "    - false_positive (bool): If True, find false positives, else find false negatives.\n",
    "\n",
    "    Returns:\n",
    "    - DataFrame: DataFrame containing false instances.\n",
    "    \"\"\"\n",
    "\n",
    "    if false_positive:\n",
    "        # Finding false positives\n",
    "        false_instances = test_df[(test_df['Predicted'] == 1) & (test_df['GroundTruth'] == 0)]\n",
    "    else:\n",
    "        # Finding false negatives\n",
    "        false_instances = test_df[(test_df['Predicted'] == 0) & (test_df['GroundTruth'] == 1)]\n",
    "\n",
    "    return false_instances"
   ]
  },
  {
   "cell_type": "code",
   "execution_count": 20,
   "metadata": {},
   "outputs": [],
   "source": [
    "def cf_difference(base_model, cf_df):\n",
    "    \"\"\"\n",
    "    Calculate the difference between the base model and each row of the provided counterfactual DataFrame.\n",
    "    \n",
    "    Parameters:\n",
    "    - base_model: DataFrame, representing the base model with hyperparameters\n",
    "    - cf_df: DataFrame, representing the counterfactual DataFrame with hyperparameters\n",
    "    \n",
    "    Returns:\n",
    "    - DataFrame with differences added as a new column\n",
    "    \"\"\"\n",
    "    differences = []\n",
    "    \n",
    "    # Ensure the base_model DataFrame has only one row\n",
    "    if len(base_model) != 1:\n",
    "        raise ValueError(\"Base model DataFrame must have exactly one row.\")\n",
    "\n",
    "    # Get the single row of the base model\n",
    "    base_row = base_model.iloc[0]\n",
    "    \n",
    "    # Iterate over each row in the counterfactual DataFrame\n",
    "    for index, row in cf_df.iterrows():\n",
    "        difference = 0\n",
    "        \n",
    "        # Iterate over each column in the counterfactual DataFrame\n",
    "        for column, value in row.iteritems():\n",
    "            # Exclude 'BinaryLabel' column\n",
    "            if column == 'BinaryLabel':\n",
    "                continue\n",
    "            \n",
    "            # Check if the column is numerical\n",
    "            try:\n",
    "                # Compute the absolute difference for numerical columns\n",
    "                difference += abs(int(value) - int(base_row[column]))\n",
    "            except:\n",
    "                # For categorical values, difference is 1 if they are different\n",
    "                if str(value) != str(base_row[column]):\n",
    "                    difference += 1\n",
    "                    \n",
    "        # Append the difference for the current row\n",
    "        differences.append(difference)\n",
    "    \n",
    "    # Add the differences as a new column in the counterfactual DataFrame\n",
    "    cf_df['Difference'] = differences\n",
    "    \n",
    "    return cf_df"
   ]
  },
  {
   "cell_type": "code",
   "execution_count": 21,
   "metadata": {},
   "outputs": [],
   "source": [
    "def get_scaler(scaler_str):\n",
    "    if 'MinMaxScaler()' in scaler_str:\n",
    "        return MinMaxScaler()\n",
    "    elif 'RobustScaler()' in scaler_str:\n",
    "        return RobustScaler()\n",
    "    elif 'StandardScaler()' in scaler_str:\n",
    "        return StandardScaler()\n",
    "    else:\n",
    "        return None"
   ]
  },
  {
   "cell_type": "code",
   "execution_count": 30,
   "metadata": {},
   "outputs": [],
   "source": [
    "train = data_train_test.drop(columns='label')\n",
    "train_labels = data_train_test.label\n",
    "false_positives = find_false_instances(missclassified, false_positive=True)\n",
    "proxy_model , proxy_dataset = instance_proxy(train,train_labels,opt, false_positives.loc[5].drop(columns=['GroundTruth','Predicted']),opt.param_grid)"
   ]
  },
  {
   "cell_type": "code",
   "execution_count": 31,
   "metadata": {},
   "outputs": [],
   "source": [
    "import dice_ml\n",
    "\n",
    "query = pd.DataFrame.from_dict(opt.best_params_,orient='index').T\n",
    "query['preprocessor__num__scaler'] = query['preprocessor__num__scaler'].astype(str)\n",
    "query['Model__learning_rate'] = query['Model__learning_rate'].astype(str)\n",
    "proxy_dataset['Model__learning_rate'] = proxy_dataset['Model__learning_rate'].astype(str)\n",
    "\n",
    "d = dice_ml.Data(dataframe=proxy_dataset, \n",
    "continuous_features=proxy_dataset.drop(columns='BinaryLabel').select_dtypes(include='number').columns.tolist()\n",
    ", outcome_name='BinaryLabel')\n",
    "\n",
    "# Using sklearn backend\n",
    "m = dice_ml.Model(model=proxy_model, backend=\"sklearn\")\n",
    "# Using method=random for generating CFs\n",
    "exp = dice_ml.Dice(d, m, method=\"random\")"
   ]
  },
  {
   "cell_type": "code",
   "execution_count": 32,
   "metadata": {},
   "outputs": [
    {
     "name": "stderr",
     "output_type": "stream",
     "text": [
      "  0%|          | 0/1 [00:00<?, ?it/s]"
     ]
    },
    {
     "name": "stderr",
     "output_type": "stream",
     "text": [
      "100%|██████████| 1/1 [00:00<00:00,  2.15it/s]"
     ]
    },
    {
     "name": "stdout",
     "output_type": "stream",
     "text": [
      "Query instance (original outcome : 1)\n"
     ]
    },
    {
     "name": "stderr",
     "output_type": "stream",
     "text": [
      "\n"
     ]
    },
    {
     "data": {
      "text/html": [
       "<div>\n",
       "<style scoped>\n",
       "    .dataframe tbody tr th:only-of-type {\n",
       "        vertical-align: middle;\n",
       "    }\n",
       "\n",
       "    .dataframe tbody tr th {\n",
       "        vertical-align: top;\n",
       "    }\n",
       "\n",
       "    .dataframe thead th {\n",
       "        text-align: right;\n",
       "    }\n",
       "</style>\n",
       "<table border=\"1\" class=\"dataframe\">\n",
       "  <thead>\n",
       "    <tr style=\"text-align: right;\">\n",
       "      <th></th>\n",
       "      <th>Model__learning_rate</th>\n",
       "      <th>Model__max_depth</th>\n",
       "      <th>Model__min_child_weight</th>\n",
       "      <th>Model__n_estimators</th>\n",
       "      <th>preprocessor__num__scaler</th>\n",
       "      <th>BinaryLabel</th>\n",
       "    </tr>\n",
       "  </thead>\n",
       "  <tbody>\n",
       "    <tr>\n",
       "      <th>0</th>\n",
       "      <td>0.1</td>\n",
       "      <td>2</td>\n",
       "      <td>1</td>\n",
       "      <td>75</td>\n",
       "      <td>StandardScaler()</td>\n",
       "      <td>1</td>\n",
       "    </tr>\n",
       "  </tbody>\n",
       "</table>\n",
       "</div>"
      ],
      "text/plain": [
       "  Model__learning_rate Model__max_depth Model__min_child_weight  \\\n",
       "0                  0.1                2                       1   \n",
       "\n",
       "  Model__n_estimators preprocessor__num__scaler  BinaryLabel  \n",
       "0                  75          StandardScaler()            1  "
      ]
     },
     "metadata": {},
     "output_type": "display_data"
    },
    {
     "name": "stdout",
     "output_type": "stream",
     "text": [
      "\n",
      "Diverse Counterfactual set (new outcome: 0)\n"
     ]
    },
    {
     "data": {
      "text/html": [
       "<div>\n",
       "<style scoped>\n",
       "    .dataframe tbody tr th:only-of-type {\n",
       "        vertical-align: middle;\n",
       "    }\n",
       "\n",
       "    .dataframe tbody tr th {\n",
       "        vertical-align: top;\n",
       "    }\n",
       "\n",
       "    .dataframe thead th {\n",
       "        text-align: right;\n",
       "    }\n",
       "</style>\n",
       "<table border=\"1\" class=\"dataframe\">\n",
       "  <thead>\n",
       "    <tr style=\"text-align: right;\">\n",
       "      <th></th>\n",
       "      <th>Model__learning_rate</th>\n",
       "      <th>Model__max_depth</th>\n",
       "      <th>Model__min_child_weight</th>\n",
       "      <th>Model__n_estimators</th>\n",
       "      <th>preprocessor__num__scaler</th>\n",
       "      <th>BinaryLabel</th>\n",
       "    </tr>\n",
       "  </thead>\n",
       "  <tbody>\n",
       "    <tr>\n",
       "      <th>0</th>\n",
       "      <td>0.001</td>\n",
       "      <td>-</td>\n",
       "      <td>-</td>\n",
       "      <td>-</td>\n",
       "      <td>-</td>\n",
       "      <td>0</td>\n",
       "    </tr>\n",
       "    <tr>\n",
       "      <th>1</th>\n",
       "      <td>-</td>\n",
       "      <td>6.0</td>\n",
       "      <td>-</td>\n",
       "      <td>27.0</td>\n",
       "      <td>-</td>\n",
       "      <td>0</td>\n",
       "    </tr>\n",
       "    <tr>\n",
       "      <th>2</th>\n",
       "      <td>-</td>\n",
       "      <td>8.0</td>\n",
       "      <td>-</td>\n",
       "      <td>25.0</td>\n",
       "      <td>-</td>\n",
       "      <td>0</td>\n",
       "    </tr>\n",
       "    <tr>\n",
       "      <th>3</th>\n",
       "      <td>0.001</td>\n",
       "      <td>-</td>\n",
       "      <td>-</td>\n",
       "      <td>-</td>\n",
       "      <td>-</td>\n",
       "      <td>0</td>\n",
       "    </tr>\n",
       "    <tr>\n",
       "      <th>4</th>\n",
       "      <td>0.01</td>\n",
       "      <td>-</td>\n",
       "      <td>-</td>\n",
       "      <td>25.0</td>\n",
       "      <td>-</td>\n",
       "      <td>0</td>\n",
       "    </tr>\n",
       "  </tbody>\n",
       "</table>\n",
       "</div>"
      ],
      "text/plain": [
       "  Model__learning_rate Model__max_depth Model__min_child_weight  \\\n",
       "0                0.001                -                       -   \n",
       "1                    -              6.0                       -   \n",
       "2                    -              8.0                       -   \n",
       "3                0.001                -                       -   \n",
       "4                 0.01                -                       -   \n",
       "\n",
       "  Model__n_estimators preprocessor__num__scaler BinaryLabel  \n",
       "0                   -                         -           0  \n",
       "1                27.0                         -           0  \n",
       "2                25.0                         -           0  \n",
       "3                   -                         -           0  \n",
       "4                25.0                         -           0  "
      ]
     },
     "metadata": {},
     "output_type": "display_data"
    }
   ],
   "source": [
    "e1 = exp.generate_counterfactuals(query, total_CFs=5, desired_class=\"opposite\",sample_size=5000)\n",
    "e1.visualize_as_dataframe(show_only_changes=True)"
   ]
  },
  {
   "cell_type": "code",
   "execution_count": 24,
   "metadata": {},
   "outputs": [],
   "source": [
    "import dice_ml\n",
    "train = data_train_test.drop(columns='label')\n",
    "train_labels = data_train_test.label\n",
    "false_positives = find_false_instances(missclassified, false_positive=True)\n",
    "def generate_cf_for_all(train,train_labels,instances,opt):\n",
    "    no_cf = []\n",
    "    found_cf = []\n",
    "    proxy_not_fit = []\n",
    "    cf_predicts_good = []\n",
    "    false_instances = instances.copy(deep=True)\n",
    "    false_instances.drop(columns=['GroundTruth','Predicted'],inplace=True)\n",
    "    for i,row in false_instances.iterrows():\n",
    "        try:\n",
    "            proxy_model , proxy_dataset = instance_proxy(train,train_labels,opt, row.drop(columns=['GroundTruth','Predicted']),opt.param_grid)\n",
    "        except:\n",
    "            print(f'Proxy does not fit for instance {i}')\n",
    "            proxy_not_fit.append(i)\n",
    "            continue\n",
    "\n",
    "        query = pd.DataFrame.from_dict(opt.best_params_,orient='index').T\n",
    "        query['preprocessor__num__scaler'] = query['preprocessor__num__scaler'].astype(str)\n",
    "        query['Model__learning_rate'] = query['Model__learning_rate'].astype(str)\n",
    "        proxy_dataset['Model__learning_rate'] = proxy_dataset['Model__learning_rate'].astype(str)\n",
    "\n",
    "        d = dice_ml.Data(dataframe=proxy_dataset, \n",
    "        continuous_features=proxy_dataset.drop(columns='BinaryLabel').select_dtypes(include='number').columns.tolist()\n",
    "        , outcome_name='BinaryLabel')\n",
    "\n",
    "        # Using sklearn backend\n",
    "        m = dice_ml.Model(model=proxy_model, backend=\"sklearn\")\n",
    "        # Using method=random for generating CFs\n",
    "        exp = dice_ml.Dice(d, m, method=\"random\")\n",
    "        try:\n",
    "            e1 = exp.generate_counterfactuals(query, total_CFs=5, desired_class=\"opposite\",sample_size=5000)\n",
    "            #e1.visualize_as_dataframe(show_only_changes=True)\n",
    "            found_cf.append(i)\n",
    "        except:\n",
    "            print(\"No counterfactuals found for \", i)\n",
    "            no_cf.append(i)\n",
    "            continue\n",
    "        cfs = e1.cf_examples_list[0].final_cfs_df\n",
    "        cf_df = cf_difference(query,cfs)\n",
    "        cf_df = cf_df.sort_values(by='Difference')\n",
    "        cf_df.reset_index(drop=True,inplace=True)\n",
    "        cf = cf_df.loc[0].to_frame().T.drop(columns=['BinaryLabel','Difference'])\n",
    "        cf['Model__learning_rate'] = cf[\"Model__learning_rate\"].astype(float)\n",
    "        cf['Model__max_depth'] = cf[\"Model__max_depth\"].astype(int)\n",
    "        cf['Model__min_child_weight'] = cf[\"Model__min_child_weight\"].astype(int)\n",
    "        cf['Model__n_estimators'] = cf[\"Model__n_estimators\"].astype(int)\n",
    "        cf['preprocessor__num__scaler'] = get_scaler(cf[\"preprocessor__num__scaler\"].values[0])\n",
    "        hyper_dict = cf.loc[0].to_dict()\n",
    "        mdl = deepcopy(opt.estimator)\n",
    "        mdl.set_params(**hyper_dict)\n",
    "        mdl.fit(train, train_labels)\n",
    "        pred = mdl.predict(row.to_frame().T)\n",
    "        if pred[0] == instances.loc[i].to_frame().T['GroundTruth'].values[0]:\n",
    "            cf_predicts_good.append(i)\n",
    "            print(\"Counterfactual flips misclassified instance label correctly\")\n",
    "\n",
    "    return no_cf,found_cf,cf_predicts_good,proxy_not_fit\n",
    "        \n",
    "\n",
    "    #cfs = e1.cf_examples_list[0].final_cfs_df\n",
    "    "
   ]
  },
  {
   "cell_type": "code",
   "execution_count": 20,
   "metadata": {},
   "outputs": [
    {
     "name": "stderr",
     "output_type": "stream",
     "text": [
      "100%|██████████| 1/1 [00:00<00:00,  1.00it/s]\n"
     ]
    },
    {
     "name": "stdout",
     "output_type": "stream",
     "text": [
      "Counterfactual flips misclassified instance label correctly\n"
     ]
    },
    {
     "name": "stderr",
     "output_type": "stream",
     "text": [
      "100%|██████████| 1/1 [00:01<00:00,  1.01s/it]"
     ]
    },
    {
     "name": "stdout",
     "output_type": "stream",
     "text": [
      "No Counterfactuals found for the given configuration, perhaps try with different parameters... ; total time taken: 00 min 00 sec\n",
      "No counterfactuals found for  6\n"
     ]
    },
    {
     "name": "stderr",
     "output_type": "stream",
     "text": [
      "\n",
      "100%|██████████| 1/1 [00:01<00:00,  1.02s/it]\n"
     ]
    },
    {
     "name": "stdout",
     "output_type": "stream",
     "text": [
      "Counterfactual flips misclassified instance label correctly\n"
     ]
    },
    {
     "name": "stderr",
     "output_type": "stream",
     "text": [
      "100%|██████████| 1/1 [00:00<00:00,  2.19it/s]\n"
     ]
    },
    {
     "name": "stdout",
     "output_type": "stream",
     "text": [
      "Counterfactual flips misclassified instance label correctly\n"
     ]
    },
    {
     "name": "stderr",
     "output_type": "stream",
     "text": [
      "100%|██████████| 1/1 [00:00<00:00,  2.22it/s]\n"
     ]
    },
    {
     "name": "stdout",
     "output_type": "stream",
     "text": [
      "Counterfactual flips misclassified instance label correctly\n"
     ]
    },
    {
     "name": "stderr",
     "output_type": "stream",
     "text": [
      "100%|██████████| 1/1 [00:00<00:00,  2.23it/s]\n"
     ]
    },
    {
     "name": "stdout",
     "output_type": "stream",
     "text": [
      "Counterfactual flips misclassified instance label correctly\n"
     ]
    },
    {
     "name": "stderr",
     "output_type": "stream",
     "text": [
      "100%|██████████| 1/1 [00:00<00:00,  2.31it/s]\n"
     ]
    },
    {
     "name": "stdout",
     "output_type": "stream",
     "text": [
      "Counterfactual flips misclassified instance label correctly\n"
     ]
    },
    {
     "name": "stderr",
     "output_type": "stream",
     "text": [
      "100%|██████████| 1/1 [00:00<00:00,  2.51it/s]\n"
     ]
    },
    {
     "name": "stdout",
     "output_type": "stream",
     "text": [
      "Counterfactual flips misclassified instance label correctly\n"
     ]
    },
    {
     "name": "stderr",
     "output_type": "stream",
     "text": [
      "100%|██████████| 1/1 [00:00<00:00,  1.18it/s]\n"
     ]
    },
    {
     "name": "stdout",
     "output_type": "stream",
     "text": [
      "Counterfactual flips misclassified instance label correctly\n"
     ]
    },
    {
     "name": "stderr",
     "output_type": "stream",
     "text": [
      "100%|██████████| 1/1 [00:00<00:00,  2.06it/s]\n"
     ]
    },
    {
     "name": "stdout",
     "output_type": "stream",
     "text": [
      "Counterfactual flips misclassified instance label correctly\n",
      "Proxy does not fit for instance 29\n"
     ]
    }
   ],
   "source": [
    "no_cf,found_cf,cf_predicts_good,proxy_not_fit = generate_cf_for_all(train,train_labels,false_positives,opt)\n",
    "false_positives_dict = {'no_cf':no_cf,\n",
    "                        'found_cf':found_cf,\n",
    "                        'cf_predicts_good': cf_predicts_good,\n",
    "                        'proxy_not_fit':proxy_not_fit}\n",
    "\n",
    "MODELS_DICT_PATH = 'false_positives_dict_big.pkl'\n",
    "with open(MODELS_DICT_PATH, 'wb') as f:\n",
    "            pickle.dump(false_positives_dict, f)\n",
    "false_positives_dict"
   ]
  },
  {
   "cell_type": "code",
   "execution_count": null,
   "metadata": {},
   "outputs": [
    {
     "name": "stdout",
     "output_type": "stream",
     "text": [
      "Proxy does not fit for instance 1883\n",
      "Proxy does not fit for instance 1884\n"
     ]
    },
    {
     "name": "stderr",
     "output_type": "stream",
     "text": [
      "100%|██████████| 1/1 [00:00<00:00,  1.74it/s]\n"
     ]
    },
    {
     "name": "stdout",
     "output_type": "stream",
     "text": [
      "Counterfactual flips misclassified instance label correctly\n",
      "Proxy does not fit for instance 1886\n",
      "Proxy does not fit for instance 1887\n",
      "Proxy does not fit for instance 1888\n"
     ]
    },
    {
     "name": "stderr",
     "output_type": "stream",
     "text": [
      "100%|██████████| 1/1 [00:00<00:00,  1.61it/s]\n"
     ]
    },
    {
     "name": "stdout",
     "output_type": "stream",
     "text": [
      "Counterfactual flips misclassified instance label correctly\n"
     ]
    },
    {
     "name": "stderr",
     "output_type": "stream",
     "text": [
      "100%|██████████| 1/1 [00:00<00:00,  1.40it/s]\n"
     ]
    },
    {
     "name": "stdout",
     "output_type": "stream",
     "text": [
      "Counterfactual flips misclassified instance label correctly\n"
     ]
    },
    {
     "name": "stderr",
     "output_type": "stream",
     "text": [
      "100%|██████████| 1/1 [00:00<00:00,  1.40it/s]\n"
     ]
    },
    {
     "name": "stdout",
     "output_type": "stream",
     "text": [
      "Counterfactual flips misclassified instance label correctly\n",
      "Proxy does not fit for instance 1892\n",
      "Proxy does not fit for instance 1893\n",
      "Proxy does not fit for instance 1894\n",
      "Proxy does not fit for instance 1895\n",
      "Proxy does not fit for instance 1896\n"
     ]
    },
    {
     "name": "stderr",
     "output_type": "stream",
     "text": [
      "100%|██████████| 1/1 [00:00<00:00,  1.28it/s]\n",
      "100%|██████████| 1/1 [00:00<00:00,  1.41it/s]\n"
     ]
    },
    {
     "name": "stdout",
     "output_type": "stream",
     "text": [
      "Counterfactual flips misclassified instance label correctly\n",
      "Proxy does not fit for instance 1899\n"
     ]
    },
    {
     "name": "stderr",
     "output_type": "stream",
     "text": [
      "100%|██████████| 1/1 [00:00<00:00,  1.48it/s]\n",
      "100%|██████████| 1/1 [00:01<00:00,  1.25s/it]"
     ]
    },
    {
     "name": "stdout",
     "output_type": "stream",
     "text": [
      "No Counterfactuals found for the given configuration, perhaps try with different parameters... ; total time taken: 00 min 01 sec\n",
      "No counterfactuals found for  1904\n"
     ]
    },
    {
     "name": "stderr",
     "output_type": "stream",
     "text": [
      "\n"
     ]
    },
    {
     "name": "stdout",
     "output_type": "stream",
     "text": [
      "Proxy does not fit for instance 1905\n",
      "Proxy does not fit for instance 1906\n"
     ]
    },
    {
     "name": "stderr",
     "output_type": "stream",
     "text": [
      "100%|██████████| 1/1 [00:01<00:00,  1.44s/it]"
     ]
    },
    {
     "name": "stdout",
     "output_type": "stream",
     "text": [
      "No Counterfactuals found for the given configuration, perhaps try with different parameters... ; total time taken: 00 min 01 sec\n",
      "No counterfactuals found for  1907\n"
     ]
    },
    {
     "name": "stderr",
     "output_type": "stream",
     "text": [
      "\n",
      "100%|██████████| 1/1 [00:00<00:00,  1.50it/s]\n",
      "100%|██████████| 1/1 [00:01<00:00,  1.86s/it]"
     ]
    },
    {
     "name": "stdout",
     "output_type": "stream",
     "text": [
      "No Counterfactuals found for the given configuration, perhaps try with different parameters... ; total time taken: 00 min 01 sec\n",
      "No counterfactuals found for  1909\n"
     ]
    },
    {
     "name": "stderr",
     "output_type": "stream",
     "text": [
      "\n",
      "100%|██████████| 1/1 [00:01<00:00,  1.57s/it]"
     ]
    },
    {
     "name": "stdout",
     "output_type": "stream",
     "text": [
      "No Counterfactuals found for the given configuration, perhaps try with different parameters... ; total time taken: 00 min 01 sec\n",
      "No counterfactuals found for  1910\n"
     ]
    },
    {
     "name": "stderr",
     "output_type": "stream",
     "text": [
      "\n",
      "100%|██████████| 1/1 [00:00<00:00,  1.75it/s]\n"
     ]
    },
    {
     "name": "stdout",
     "output_type": "stream",
     "text": [
      "Counterfactual flips misclassified instance label correctly\n",
      "Proxy does not fit for instance 1912\n",
      "Proxy does not fit for instance 1913\n",
      "Proxy does not fit for instance 1914\n",
      "Proxy does not fit for instance 1915\n",
      "Proxy does not fit for instance 1916\n",
      "Proxy does not fit for instance 1917\n",
      "Proxy does not fit for instance 1918\n",
      "Proxy does not fit for instance 1919\n",
      "Proxy does not fit for instance 1920\n",
      "Proxy does not fit for instance 1921\n",
      "Proxy does not fit for instance 1922\n",
      "Proxy does not fit for instance 1923\n",
      "Proxy does not fit for instance 1924\n",
      "Proxy does not fit for instance 1925\n",
      "Proxy does not fit for instance 1926\n",
      "Proxy does not fit for instance 1927\n",
      "Proxy does not fit for instance 1928\n",
      "Proxy does not fit for instance 1929\n",
      "Proxy does not fit for instance 1930\n",
      "Proxy does not fit for instance 1931\n",
      "Proxy does not fit for instance 1932\n",
      "Proxy does not fit for instance 1933\n",
      "Proxy does not fit for instance 1934\n",
      "Proxy does not fit for instance 1935\n",
      "Proxy does not fit for instance 1936\n",
      "Proxy does not fit for instance 1937\n",
      "Proxy does not fit for instance 1938\n",
      "Proxy does not fit for instance 1939\n",
      "Proxy does not fit for instance 1940\n",
      "Proxy does not fit for instance 1941\n"
     ]
    },
    {
     "name": "stderr",
     "output_type": "stream",
     "text": [
      "100%|██████████| 1/1 [00:00<00:00,  1.38it/s]\n"
     ]
    },
    {
     "name": "stdout",
     "output_type": "stream",
     "text": [
      "Counterfactual flips misclassified instance label correctly\n"
     ]
    },
    {
     "name": "stderr",
     "output_type": "stream",
     "text": [
      "100%|██████████| 1/1 [00:00<00:00,  1.48it/s]\n"
     ]
    },
    {
     "name": "stdout",
     "output_type": "stream",
     "text": [
      "Counterfactual flips misclassified instance label correctly\n",
      "Proxy does not fit for instance 1944\n",
      "Proxy does not fit for instance 1945\n",
      "Proxy does not fit for instance 1946\n",
      "Proxy does not fit for instance 1947\n",
      "Proxy does not fit for instance 1948\n",
      "Proxy does not fit for instance 1949\n",
      "Proxy does not fit for instance 1950\n",
      "Proxy does not fit for instance 1951\n",
      "Proxy does not fit for instance 1952\n",
      "Proxy does not fit for instance 1953\n",
      "Proxy does not fit for instance 1954\n",
      "Proxy does not fit for instance 1955\n",
      "Proxy does not fit for instance 1956\n",
      "Proxy does not fit for instance 1957\n",
      "Proxy does not fit for instance 1958\n",
      "Proxy does not fit for instance 1959\n",
      "Proxy does not fit for instance 1960\n",
      "Proxy does not fit for instance 1961\n",
      "Proxy does not fit for instance 1962\n",
      "Proxy does not fit for instance 1963\n",
      "Proxy does not fit for instance 1964\n"
     ]
    },
    {
     "name": "stderr",
     "output_type": "stream",
     "text": [
      "100%|██████████| 1/1 [00:01<00:00,  1.07s/it]\n"
     ]
    },
    {
     "name": "stdout",
     "output_type": "stream",
     "text": [
      "Counterfactual flips misclassified instance label correctly\n"
     ]
    },
    {
     "name": "stderr",
     "output_type": "stream",
     "text": [
      "100%|██████████| 1/1 [00:00<00:00,  1.23it/s]\n"
     ]
    },
    {
     "name": "stdout",
     "output_type": "stream",
     "text": [
      "Counterfactual flips misclassified instance label correctly\n"
     ]
    },
    {
     "name": "stderr",
     "output_type": "stream",
     "text": [
      "100%|██████████| 1/1 [00:00<00:00,  1.23it/s]\n"
     ]
    },
    {
     "name": "stdout",
     "output_type": "stream",
     "text": [
      "Counterfactual flips misclassified instance label correctly\n"
     ]
    },
    {
     "name": "stderr",
     "output_type": "stream",
     "text": [
      "100%|██████████| 1/1 [00:01<00:00,  1.46s/it]\n"
     ]
    },
    {
     "name": "stdout",
     "output_type": "stream",
     "text": [
      "Counterfactual flips misclassified instance label correctly\n",
      "Proxy does not fit for instance 1969\n",
      "Proxy does not fit for instance 1970\n",
      "Proxy does not fit for instance 1977\n",
      "Proxy does not fit for instance 1978\n",
      "Proxy does not fit for instance 1979\n"
     ]
    },
    {
     "name": "stderr",
     "output_type": "stream",
     "text": [
      "100%|██████████| 1/1 [00:01<00:00,  1.19s/it]"
     ]
    },
    {
     "name": "stdout",
     "output_type": "stream",
     "text": [
      "No Counterfactuals found for the given configuration, perhaps try with different parameters... ; total time taken: 00 min 01 sec\n",
      "No counterfactuals found for  1980\n"
     ]
    },
    {
     "name": "stderr",
     "output_type": "stream",
     "text": [
      "\n",
      "100%|██████████| 1/1 [00:01<00:00,  1.18s/it]"
     ]
    },
    {
     "name": "stdout",
     "output_type": "stream",
     "text": [
      "No Counterfactuals found for the given configuration, perhaps try with different parameters... ; total time taken: 00 min 01 sec\n",
      "No counterfactuals found for  1981\n"
     ]
    },
    {
     "name": "stderr",
     "output_type": "stream",
     "text": [
      "\n"
     ]
    },
    {
     "name": "stdout",
     "output_type": "stream",
     "text": [
      "Proxy does not fit for instance 1982\n"
     ]
    },
    {
     "name": "stderr",
     "output_type": "stream",
     "text": [
      "100%|██████████| 1/1 [00:00<00:00,  1.40it/s]\n"
     ]
    },
    {
     "name": "stdout",
     "output_type": "stream",
     "text": [
      "Counterfactual flips misclassified instance label correctly\n",
      "Proxy does not fit for instance 1984\n",
      "Proxy does not fit for instance 1985\n",
      "Proxy does not fit for instance 1986\n",
      "Proxy does not fit for instance 1987\n",
      "Proxy does not fit for instance 1988\n",
      "Proxy does not fit for instance 1989\n",
      "Proxy does not fit for instance 1990\n",
      "Proxy does not fit for instance 1991\n"
     ]
    },
    {
     "name": "stderr",
     "output_type": "stream",
     "text": [
      "100%|██████████| 1/1 [00:01<00:00,  1.32s/it]"
     ]
    },
    {
     "name": "stdout",
     "output_type": "stream",
     "text": [
      "No Counterfactuals found for the given configuration, perhaps try with different parameters... ; total time taken: 00 min 01 sec\n",
      "No counterfactuals found for  1992\n"
     ]
    },
    {
     "name": "stderr",
     "output_type": "stream",
     "text": [
      "\n",
      "100%|██████████| 1/1 [00:01<00:00,  1.48s/it]"
     ]
    },
    {
     "name": "stdout",
     "output_type": "stream",
     "text": [
      "No Counterfactuals found for the given configuration, perhaps try with different parameters... ; total time taken: 00 min 01 sec\n",
      "No counterfactuals found for  1993\n"
     ]
    },
    {
     "name": "stderr",
     "output_type": "stream",
     "text": [
      "\n",
      "100%|██████████| 1/1 [00:01<00:00,  1.34s/it]"
     ]
    },
    {
     "name": "stdout",
     "output_type": "stream",
     "text": [
      "No Counterfactuals found for the given configuration, perhaps try with different parameters... ; total time taken: 00 min 01 sec\n",
      "No counterfactuals found for  1994\n"
     ]
    },
    {
     "name": "stderr",
     "output_type": "stream",
     "text": [
      "\n",
      "100%|██████████| 1/1 [00:01<00:00,  1.34s/it]"
     ]
    },
    {
     "name": "stdout",
     "output_type": "stream",
     "text": [
      "No Counterfactuals found for the given configuration, perhaps try with different parameters... ; total time taken: 00 min 01 sec\n",
      "No counterfactuals found for  1995\n"
     ]
    },
    {
     "name": "stderr",
     "output_type": "stream",
     "text": [
      "\n",
      "100%|██████████| 1/1 [00:01<00:00,  1.32s/it]"
     ]
    },
    {
     "name": "stdout",
     "output_type": "stream",
     "text": [
      "No Counterfactuals found for the given configuration, perhaps try with different parameters... ; total time taken: 00 min 01 sec\n",
      "No counterfactuals found for  1996\n"
     ]
    },
    {
     "name": "stderr",
     "output_type": "stream",
     "text": [
      "\n",
      "100%|██████████| 1/1 [00:01<00:00,  1.27s/it]"
     ]
    },
    {
     "name": "stdout",
     "output_type": "stream",
     "text": [
      "No Counterfactuals found for the given configuration, perhaps try with different parameters... ; total time taken: 00 min 01 sec\n",
      "No counterfactuals found for  1997\n"
     ]
    },
    {
     "name": "stderr",
     "output_type": "stream",
     "text": [
      "\n"
     ]
    },
    {
     "name": "stdout",
     "output_type": "stream",
     "text": [
      "Proxy does not fit for instance 1998\n",
      "Proxy does not fit for instance 1999\n",
      "Proxy does not fit for instance 2000\n"
     ]
    },
    {
     "name": "stderr",
     "output_type": "stream",
     "text": [
      "100%|██████████| 1/1 [00:01<00:00,  1.52s/it]"
     ]
    },
    {
     "name": "stdout",
     "output_type": "stream",
     "text": [
      "No Counterfactuals found for the given configuration, perhaps try with different parameters... ; total time taken: 00 min 01 sec\n",
      "No counterfactuals found for  2001\n"
     ]
    },
    {
     "name": "stderr",
     "output_type": "stream",
     "text": [
      "\n"
     ]
    },
    {
     "name": "stdout",
     "output_type": "stream",
     "text": [
      "Proxy does not fit for instance 2002\n",
      "Proxy does not fit for instance 2003\n",
      "Proxy does not fit for instance 2004\n",
      "Proxy does not fit for instance 2005\n",
      "Proxy does not fit for instance 2006\n",
      "Proxy does not fit for instance 2007\n",
      "Proxy does not fit for instance 2008\n",
      "Proxy does not fit for instance 2009\n",
      "Proxy does not fit for instance 2010\n",
      "Proxy does not fit for instance 2011\n",
      "Proxy does not fit for instance 2012\n",
      "Proxy does not fit for instance 2013\n",
      "Proxy does not fit for instance 2014\n",
      "Proxy does not fit for instance 2015\n",
      "Proxy does not fit for instance 2016\n",
      "Proxy does not fit for instance 2017\n",
      "Proxy does not fit for instance 2018\n",
      "Proxy does not fit for instance 2019\n",
      "Proxy does not fit for instance 2020\n",
      "Proxy does not fit for instance 2021\n",
      "Proxy does not fit for instance 2022\n",
      "Proxy does not fit for instance 2023\n",
      "Proxy does not fit for instance 2024\n",
      "Proxy does not fit for instance 2025\n",
      "Proxy does not fit for instance 2026\n",
      "Proxy does not fit for instance 2027\n",
      "Proxy does not fit for instance 2028\n",
      "Proxy does not fit for instance 2029\n",
      "Proxy does not fit for instance 2030\n",
      "Proxy does not fit for instance 2031\n",
      "Proxy does not fit for instance 2032\n",
      "Proxy does not fit for instance 2033\n",
      "Proxy does not fit for instance 2034\n",
      "Proxy does not fit for instance 2035\n"
     ]
    },
    {
     "name": "stderr",
     "output_type": "stream",
     "text": [
      "100%|██████████| 1/1 [00:01<00:00,  1.77s/it]\n"
     ]
    },
    {
     "name": "stdout",
     "output_type": "stream",
     "text": [
      "Counterfactual flips misclassified instance label correctly\n"
     ]
    },
    {
     "name": "stderr",
     "output_type": "stream",
     "text": [
      "100%|██████████| 1/1 [00:01<00:00,  1.76s/it]\n"
     ]
    },
    {
     "name": "stdout",
     "output_type": "stream",
     "text": [
      "Counterfactual flips misclassified instance label correctly\n"
     ]
    },
    {
     "name": "stderr",
     "output_type": "stream",
     "text": [
      "100%|██████████| 1/1 [00:01<00:00,  1.61s/it]\n"
     ]
    },
    {
     "name": "stdout",
     "output_type": "stream",
     "text": [
      "Counterfactual flips misclassified instance label correctly\n"
     ]
    },
    {
     "name": "stderr",
     "output_type": "stream",
     "text": [
      "100%|██████████| 1/1 [00:01<00:00,  1.55s/it]"
     ]
    },
    {
     "name": "stdout",
     "output_type": "stream",
     "text": [
      "No Counterfactuals found for the given configuration, perhaps try with different parameters... ; total time taken: 00 min 01 sec\n",
      "No counterfactuals found for  2039\n"
     ]
    },
    {
     "name": "stderr",
     "output_type": "stream",
     "text": [
      "\n",
      "100%|██████████| 1/1 [00:00<00:00,  1.44it/s]\n"
     ]
    },
    {
     "name": "stdout",
     "output_type": "stream",
     "text": [
      "Counterfactual flips misclassified instance label correctly\n"
     ]
    },
    {
     "name": "stderr",
     "output_type": "stream",
     "text": [
      "100%|██████████| 1/1 [00:01<00:00,  1.27s/it]\n",
      "100%|██████████| 1/1 [00:00<00:00,  1.33it/s]\n"
     ]
    },
    {
     "name": "stdout",
     "output_type": "stream",
     "text": [
      "Counterfactual flips misclassified instance label correctly\n"
     ]
    },
    {
     "name": "stderr",
     "output_type": "stream",
     "text": [
      "100%|██████████| 1/1 [00:00<00:00,  1.29it/s]\n"
     ]
    },
    {
     "name": "stdout",
     "output_type": "stream",
     "text": [
      "Counterfactual flips misclassified instance label correctly\n"
     ]
    },
    {
     "name": "stderr",
     "output_type": "stream",
     "text": [
      "100%|██████████| 1/1 [00:00<00:00,  1.17it/s]\n"
     ]
    },
    {
     "name": "stdout",
     "output_type": "stream",
     "text": [
      "Counterfactual flips misclassified instance label correctly\n"
     ]
    },
    {
     "name": "stderr",
     "output_type": "stream",
     "text": [
      "100%|██████████| 1/1 [00:00<00:00,  1.15it/s]\n"
     ]
    },
    {
     "name": "stdout",
     "output_type": "stream",
     "text": [
      "Counterfactual flips misclassified instance label correctly\n"
     ]
    },
    {
     "name": "stderr",
     "output_type": "stream",
     "text": [
      "100%|██████████| 1/1 [00:01<00:00,  1.74s/it]"
     ]
    },
    {
     "name": "stdout",
     "output_type": "stream",
     "text": [
      "No Counterfactuals found for the given configuration, perhaps try with different parameters... ; total time taken: 00 min 01 sec\n",
      "No counterfactuals found for  2046\n"
     ]
    },
    {
     "name": "stderr",
     "output_type": "stream",
     "text": [
      "\n",
      "100%|██████████| 1/1 [00:01<00:00,  1.86s/it]"
     ]
    },
    {
     "name": "stdout",
     "output_type": "stream",
     "text": [
      "No Counterfactuals found for the given configuration, perhaps try with different parameters... ; total time taken: 00 min 01 sec\n",
      "No counterfactuals found for  2047\n"
     ]
    },
    {
     "name": "stderr",
     "output_type": "stream",
     "text": [
      "\n",
      "100%|██████████| 1/1 [00:00<00:00,  1.30it/s]\n"
     ]
    },
    {
     "name": "stdout",
     "output_type": "stream",
     "text": [
      "Counterfactual flips misclassified instance label correctly\n"
     ]
    },
    {
     "name": "stderr",
     "output_type": "stream",
     "text": [
      "100%|██████████| 1/1 [00:00<00:00,  1.28it/s]\n"
     ]
    },
    {
     "name": "stdout",
     "output_type": "stream",
     "text": [
      "Counterfactual flips misclassified instance label correctly\n"
     ]
    },
    {
     "name": "stderr",
     "output_type": "stream",
     "text": [
      "100%|██████████| 1/1 [00:01<00:00,  1.75s/it]"
     ]
    },
    {
     "name": "stdout",
     "output_type": "stream",
     "text": [
      "No Counterfactuals found for the given configuration, perhaps try with different parameters... ; total time taken: 00 min 01 sec\n",
      "No counterfactuals found for  2050\n"
     ]
    },
    {
     "name": "stderr",
     "output_type": "stream",
     "text": [
      "\n",
      "100%|██████████| 1/1 [00:01<00:00,  1.41s/it]"
     ]
    },
    {
     "name": "stdout",
     "output_type": "stream",
     "text": [
      "No Counterfactuals found for the given configuration, perhaps try with different parameters... ; total time taken: 00 min 01 sec\n",
      "No counterfactuals found for  2051\n"
     ]
    },
    {
     "name": "stderr",
     "output_type": "stream",
     "text": [
      "\n"
     ]
    },
    {
     "name": "stdout",
     "output_type": "stream",
     "text": [
      "Proxy does not fit for instance 2052\n",
      "Proxy does not fit for instance 2053\n"
     ]
    },
    {
     "name": "stderr",
     "output_type": "stream",
     "text": [
      "100%|██████████| 1/1 [00:00<00:00,  1.04it/s]\n",
      "100%|██████████| 1/1 [00:01<00:00,  1.03s/it]\n",
      "100%|██████████| 1/1 [00:01<00:00,  1.11s/it]\n",
      "100%|██████████| 1/1 [00:00<00:00,  1.13it/s]\n"
     ]
    },
    {
     "name": "stdout",
     "output_type": "stream",
     "text": [
      "Counterfactual flips misclassified instance label correctly\n",
      "Proxy does not fit for instance 2059\n",
      "Proxy does not fit for instance 2060\n",
      "Proxy does not fit for instance 2061\n",
      "Proxy does not fit for instance 2062\n",
      "Proxy does not fit for instance 2063\n",
      "Proxy does not fit for instance 2064\n",
      "Proxy does not fit for instance 2065\n",
      "Proxy does not fit for instance 2066\n",
      "Proxy does not fit for instance 2067\n",
      "Proxy does not fit for instance 2068\n",
      "Proxy does not fit for instance 2069\n",
      "Proxy does not fit for instance 2070\n",
      "Proxy does not fit for instance 2071\n",
      "Proxy does not fit for instance 2072\n",
      "Proxy does not fit for instance 2073\n"
     ]
    },
    {
     "name": "stderr",
     "output_type": "stream",
     "text": [
      "100%|██████████| 1/1 [00:00<00:00,  1.30it/s]\n"
     ]
    },
    {
     "name": "stdout",
     "output_type": "stream",
     "text": [
      "Counterfactual flips misclassified instance label correctly\n",
      "Proxy does not fit for instance 2075\n",
      "Proxy does not fit for instance 2076\n",
      "Proxy does not fit for instance 2077\n",
      "Proxy does not fit for instance 2078\n",
      "Proxy does not fit for instance 2079\n",
      "Proxy does not fit for instance 2080\n"
     ]
    },
    {
     "name": "stderr",
     "output_type": "stream",
     "text": [
      "100%|██████████| 1/1 [00:00<00:00,  1.01it/s]\n"
     ]
    },
    {
     "name": "stdout",
     "output_type": "stream",
     "text": [
      "Counterfactual flips misclassified instance label correctly\n"
     ]
    },
    {
     "name": "stderr",
     "output_type": "stream",
     "text": [
      "100%|██████████| 1/1 [00:00<00:00,  1.15it/s]\n"
     ]
    },
    {
     "name": "stdout",
     "output_type": "stream",
     "text": [
      "Counterfactual flips misclassified instance label correctly\n"
     ]
    },
    {
     "name": "stderr",
     "output_type": "stream",
     "text": [
      "100%|██████████| 1/1 [00:00<00:00,  1.42it/s]\n"
     ]
    },
    {
     "name": "stdout",
     "output_type": "stream",
     "text": [
      "Counterfactual flips misclassified instance label correctly\n"
     ]
    },
    {
     "name": "stderr",
     "output_type": "stream",
     "text": [
      "100%|██████████| 1/1 [00:01<00:00,  1.60s/it]"
     ]
    },
    {
     "name": "stdout",
     "output_type": "stream",
     "text": [
      "No Counterfactuals found for the given configuration, perhaps try with different parameters... ; total time taken: 00 min 01 sec\n",
      "No counterfactuals found for  2086\n"
     ]
    },
    {
     "name": "stderr",
     "output_type": "stream",
     "text": [
      "\n"
     ]
    },
    {
     "name": "stdout",
     "output_type": "stream",
     "text": [
      "Proxy does not fit for instance 2087\n",
      "Proxy does not fit for instance 2088\n",
      "Proxy does not fit for instance 2089\n",
      "Proxy does not fit for instance 2090\n",
      "Proxy does not fit for instance 2091\n",
      "Proxy does not fit for instance 2092\n",
      "Proxy does not fit for instance 2093\n",
      "Proxy does not fit for instance 2094\n",
      "Proxy does not fit for instance 2095\n",
      "Proxy does not fit for instance 2096\n",
      "Proxy does not fit for instance 2097\n",
      "Proxy does not fit for instance 2098\n",
      "Proxy does not fit for instance 2099\n",
      "Proxy does not fit for instance 2100\n"
     ]
    },
    {
     "name": "stderr",
     "output_type": "stream",
     "text": [
      "100%|██████████| 1/1 [00:01<00:00,  1.08s/it]\n"
     ]
    },
    {
     "name": "stdout",
     "output_type": "stream",
     "text": [
      "Counterfactual flips misclassified instance label correctly\n"
     ]
    },
    {
     "name": "stderr",
     "output_type": "stream",
     "text": [
      "100%|██████████| 1/1 [00:01<00:00,  1.40s/it]"
     ]
    },
    {
     "name": "stdout",
     "output_type": "stream",
     "text": [
      "No Counterfactuals found for the given configuration, perhaps try with different parameters... ; total time taken: 00 min 01 sec\n",
      "No counterfactuals found for  2102\n"
     ]
    },
    {
     "name": "stderr",
     "output_type": "stream",
     "text": [
      "\n",
      "100%|██████████| 1/1 [00:01<00:00,  1.06s/it]\n",
      "100%|██████████| 1/1 [00:01<00:00,  1.49s/it]"
     ]
    },
    {
     "name": "stdout",
     "output_type": "stream",
     "text": [
      "No Counterfactuals found for the given configuration, perhaps try with different parameters... ; total time taken: 00 min 01 sec\n",
      "No counterfactuals found for  2104\n"
     ]
    },
    {
     "name": "stderr",
     "output_type": "stream",
     "text": [
      "\n",
      "100%|██████████| 1/1 [00:01<00:00,  1.42s/it]"
     ]
    },
    {
     "name": "stdout",
     "output_type": "stream",
     "text": [
      "No Counterfactuals found for the given configuration, perhaps try with different parameters... ; total time taken: 00 min 01 sec\n",
      "No counterfactuals found for  2105\n"
     ]
    },
    {
     "name": "stderr",
     "output_type": "stream",
     "text": [
      "\n",
      "100%|██████████| 1/1 [00:00<00:00,  1.43it/s]\n"
     ]
    },
    {
     "name": "stdout",
     "output_type": "stream",
     "text": [
      "Proxy does not fit for instance 2107\n",
      "Proxy does not fit for instance 2108\n",
      "Proxy does not fit for instance 2109\n",
      "Proxy does not fit for instance 2110\n",
      "Proxy does not fit for instance 2111\n",
      "Proxy does not fit for instance 2112\n",
      "Proxy does not fit for instance 2113\n",
      "Proxy does not fit for instance 2114\n",
      "Proxy does not fit for instance 2115\n",
      "Proxy does not fit for instance 2116\n",
      "Proxy does not fit for instance 2117\n",
      "Proxy does not fit for instance 2118\n"
     ]
    },
    {
     "name": "stderr",
     "output_type": "stream",
     "text": [
      "100%|██████████| 1/1 [00:01<00:00,  1.46s/it]"
     ]
    },
    {
     "name": "stdout",
     "output_type": "stream",
     "text": [
      "No Counterfactuals found for the given configuration, perhaps try with different parameters... ; total time taken: 00 min 01 sec\n",
      "No counterfactuals found for  2119\n"
     ]
    },
    {
     "name": "stderr",
     "output_type": "stream",
     "text": [
      "\n",
      "100%|██████████| 1/1 [00:01<00:00,  1.26s/it]"
     ]
    },
    {
     "name": "stdout",
     "output_type": "stream",
     "text": [
      "No Counterfactuals found for the given configuration, perhaps try with different parameters... ; total time taken: 00 min 01 sec\n",
      "No counterfactuals found for  2120\n"
     ]
    },
    {
     "name": "stderr",
     "output_type": "stream",
     "text": [
      "\n",
      "100%|██████████| 1/1 [00:00<00:00,  1.20it/s]\n"
     ]
    },
    {
     "name": "stdout",
     "output_type": "stream",
     "text": [
      "Counterfactual flips misclassified instance label correctly\n"
     ]
    },
    {
     "name": "stderr",
     "output_type": "stream",
     "text": [
      "100%|██████████| 1/1 [00:01<00:00,  1.42s/it]\n"
     ]
    },
    {
     "name": "stdout",
     "output_type": "stream",
     "text": [
      "Counterfactual flips misclassified instance label correctly\n"
     ]
    },
    {
     "name": "stderr",
     "output_type": "stream",
     "text": [
      "100%|██████████| 1/1 [00:00<00:00,  1.51it/s]\n"
     ]
    },
    {
     "name": "stdout",
     "output_type": "stream",
     "text": [
      "Counterfactual flips misclassified instance label correctly\n"
     ]
    },
    {
     "name": "stderr",
     "output_type": "stream",
     "text": [
      "100%|██████████| 1/1 [00:00<00:00,  1.17it/s]\n"
     ]
    },
    {
     "name": "stdout",
     "output_type": "stream",
     "text": [
      "Counterfactual flips misclassified instance label correctly\n"
     ]
    },
    {
     "name": "stderr",
     "output_type": "stream",
     "text": [
      "100%|██████████| 1/1 [00:00<00:00,  1.19it/s]\n"
     ]
    },
    {
     "name": "stdout",
     "output_type": "stream",
     "text": [
      "Counterfactual flips misclassified instance label correctly\n"
     ]
    },
    {
     "name": "stderr",
     "output_type": "stream",
     "text": [
      "100%|██████████| 1/1 [00:01<00:00,  1.50s/it]"
     ]
    },
    {
     "name": "stdout",
     "output_type": "stream",
     "text": [
      "No Counterfactuals found for the given configuration, perhaps try with different parameters... ; total time taken: 00 min 01 sec\n",
      "No counterfactuals found for  2126\n"
     ]
    },
    {
     "name": "stderr",
     "output_type": "stream",
     "text": [
      "\n",
      "100%|██████████| 1/1 [00:02<00:00,  2.32s/it]"
     ]
    },
    {
     "name": "stdout",
     "output_type": "stream",
     "text": [
      "No Counterfactuals found for the given configuration, perhaps try with different parameters... ; total time taken: 00 min 02 sec\n",
      "No counterfactuals found for  2127\n"
     ]
    },
    {
     "name": "stderr",
     "output_type": "stream",
     "text": [
      "\n",
      "100%|██████████| 1/1 [00:00<00:00,  1.29it/s]\n",
      "100%|██████████| 1/1 [00:01<00:00,  1.38s/it]"
     ]
    },
    {
     "name": "stdout",
     "output_type": "stream",
     "text": [
      "No Counterfactuals found for the given configuration, perhaps try with different parameters... ; total time taken: 00 min 01 sec\n",
      "No counterfactuals found for  2129\n"
     ]
    },
    {
     "name": "stderr",
     "output_type": "stream",
     "text": [
      "\n",
      "100%|██████████| 1/1 [00:03<00:00,  3.60s/it]"
     ]
    },
    {
     "name": "stdout",
     "output_type": "stream",
     "text": [
      "No Counterfactuals found for the given configuration, perhaps try with different parameters... ; total time taken: 00 min 03 sec\n",
      "No counterfactuals found for  2130\n"
     ]
    },
    {
     "name": "stderr",
     "output_type": "stream",
     "text": [
      "\n",
      "100%|██████████| 1/1 [00:01<00:00,  1.73s/it]"
     ]
    },
    {
     "name": "stdout",
     "output_type": "stream",
     "text": [
      "No Counterfactuals found for the given configuration, perhaps try with different parameters... ; total time taken: 00 min 01 sec\n",
      "No counterfactuals found for  2131\n"
     ]
    },
    {
     "name": "stderr",
     "output_type": "stream",
     "text": [
      "\n"
     ]
    },
    {
     "name": "stdout",
     "output_type": "stream",
     "text": [
      "Proxy does not fit for instance 2132\n"
     ]
    },
    {
     "name": "stderr",
     "output_type": "stream",
     "text": [
      "100%|██████████| 1/1 [00:01<00:00,  1.63s/it]"
     ]
    },
    {
     "name": "stdout",
     "output_type": "stream",
     "text": [
      "No Counterfactuals found for the given configuration, perhaps try with different parameters... ; total time taken: 00 min 01 sec\n",
      "No counterfactuals found for  2133\n"
     ]
    },
    {
     "name": "stderr",
     "output_type": "stream",
     "text": [
      "\n",
      "100%|██████████| 1/1 [00:02<00:00,  2.06s/it]\n"
     ]
    },
    {
     "name": "stdout",
     "output_type": "stream",
     "text": [
      "Counterfactual flips misclassified instance label correctly\n"
     ]
    },
    {
     "name": "stderr",
     "output_type": "stream",
     "text": [
      "100%|██████████| 1/1 [00:01<00:00,  1.93s/it]"
     ]
    },
    {
     "name": "stdout",
     "output_type": "stream",
     "text": [
      "No Counterfactuals found for the given configuration, perhaps try with different parameters... ; total time taken: 00 min 01 sec\n",
      "No counterfactuals found for  2135\n"
     ]
    },
    {
     "name": "stderr",
     "output_type": "stream",
     "text": [
      "\n",
      "100%|██████████| 1/1 [00:01<00:00,  1.89s/it]"
     ]
    },
    {
     "name": "stdout",
     "output_type": "stream",
     "text": [
      "No Counterfactuals found for the given configuration, perhaps try with different parameters... ; total time taken: 00 min 01 sec\n",
      "No counterfactuals found for  2136\n"
     ]
    },
    {
     "name": "stderr",
     "output_type": "stream",
     "text": [
      "\n"
     ]
    },
    {
     "name": "stdout",
     "output_type": "stream",
     "text": [
      "Proxy does not fit for instance 2137\n",
      "Proxy does not fit for instance 2138\n",
      "Proxy does not fit for instance 2139\n",
      "Proxy does not fit for instance 2140\n",
      "Proxy does not fit for instance 2141\n",
      "Proxy does not fit for instance 2142\n",
      "Proxy does not fit for instance 2143\n"
     ]
    },
    {
     "name": "stderr",
     "output_type": "stream",
     "text": [
      "100%|██████████| 1/1 [00:01<00:00,  1.54s/it]"
     ]
    },
    {
     "name": "stdout",
     "output_type": "stream",
     "text": [
      "No Counterfactuals found for the given configuration, perhaps try with different parameters... ; total time taken: 00 min 01 sec\n",
      "No counterfactuals found for  2144\n"
     ]
    },
    {
     "name": "stderr",
     "output_type": "stream",
     "text": [
      "\n",
      "100%|██████████| 1/1 [00:01<00:00,  1.58s/it]\n"
     ]
    },
    {
     "name": "stdout",
     "output_type": "stream",
     "text": [
      "Counterfactual flips misclassified instance label correctly\n"
     ]
    },
    {
     "name": "stderr",
     "output_type": "stream",
     "text": [
      "100%|██████████| 1/1 [00:01<00:00,  1.90s/it]\n"
     ]
    },
    {
     "name": "stdout",
     "output_type": "stream",
     "text": [
      "Counterfactual flips misclassified instance label correctly\n"
     ]
    },
    {
     "name": "stderr",
     "output_type": "stream",
     "text": [
      "100%|██████████| 1/1 [00:01<00:00,  1.72s/it]\n"
     ]
    },
    {
     "name": "stdout",
     "output_type": "stream",
     "text": [
      "Counterfactual flips misclassified instance label correctly\n"
     ]
    },
    {
     "name": "stderr",
     "output_type": "stream",
     "text": [
      "100%|██████████| 1/1 [00:01<00:00,  1.61s/it]\n"
     ]
    },
    {
     "name": "stdout",
     "output_type": "stream",
     "text": [
      "Counterfactual flips misclassified instance label correctly\n",
      "Proxy does not fit for instance 2149\n",
      "Proxy does not fit for instance 2150\n",
      "Proxy does not fit for instance 2151\n"
     ]
    },
    {
     "name": "stderr",
     "output_type": "stream",
     "text": [
      "100%|██████████| 1/1 [00:01<00:00,  1.40s/it]"
     ]
    },
    {
     "name": "stdout",
     "output_type": "stream",
     "text": [
      "No Counterfactuals found for the given configuration, perhaps try with different parameters... ; total time taken: 00 min 01 sec\n",
      "No counterfactuals found for  2152\n"
     ]
    },
    {
     "name": "stderr",
     "output_type": "stream",
     "text": [
      "\n",
      "100%|██████████| 1/1 [00:01<00:00,  1.57s/it]"
     ]
    },
    {
     "name": "stdout",
     "output_type": "stream",
     "text": [
      "No Counterfactuals found for the given configuration, perhaps try with different parameters... ; total time taken: 00 min 01 sec\n",
      "No counterfactuals found for  2153\n"
     ]
    },
    {
     "name": "stderr",
     "output_type": "stream",
     "text": [
      "\n"
     ]
    },
    {
     "name": "stdout",
     "output_type": "stream",
     "text": [
      "Proxy does not fit for instance 2154\n"
     ]
    },
    {
     "name": "stderr",
     "output_type": "stream",
     "text": [
      "100%|██████████| 1/1 [00:02<00:00,  2.02s/it]"
     ]
    },
    {
     "name": "stdout",
     "output_type": "stream",
     "text": [
      "No Counterfactuals found for the given configuration, perhaps try with different parameters... ; total time taken: 00 min 02 sec\n",
      "No counterfactuals found for  2155\n"
     ]
    },
    {
     "name": "stderr",
     "output_type": "stream",
     "text": [
      "\n"
     ]
    },
    {
     "name": "stdout",
     "output_type": "stream",
     "text": [
      "Proxy does not fit for instance 2156\n",
      "Proxy does not fit for instance 2157\n",
      "Proxy does not fit for instance 2158\n",
      "Proxy does not fit for instance 2159\n",
      "Proxy does not fit for instance 2160\n",
      "Proxy does not fit for instance 2161\n"
     ]
    },
    {
     "name": "stderr",
     "output_type": "stream",
     "text": [
      "100%|██████████| 1/1 [00:01<00:00,  1.03s/it]\n"
     ]
    },
    {
     "name": "stdout",
     "output_type": "stream",
     "text": [
      "Counterfactual flips misclassified instance label correctly\n"
     ]
    },
    {
     "name": "stderr",
     "output_type": "stream",
     "text": [
      "100%|██████████| 1/1 [00:00<00:00,  1.04it/s]\n"
     ]
    },
    {
     "name": "stdout",
     "output_type": "stream",
     "text": [
      "Counterfactual flips misclassified instance label correctly\n"
     ]
    },
    {
     "name": "stderr",
     "output_type": "stream",
     "text": [
      "100%|██████████| 1/1 [00:00<00:00,  1.21it/s]\n"
     ]
    },
    {
     "name": "stdout",
     "output_type": "stream",
     "text": [
      "Counterfactual flips misclassified instance label correctly\n"
     ]
    },
    {
     "name": "stderr",
     "output_type": "stream",
     "text": [
      "100%|██████████| 1/1 [00:00<00:00,  1.04it/s]\n"
     ]
    },
    {
     "name": "stdout",
     "output_type": "stream",
     "text": [
      "Counterfactual flips misclassified instance label correctly\n",
      "Proxy does not fit for instance 2166\n",
      "Proxy does not fit for instance 2167\n",
      "Proxy does not fit for instance 2168\n"
     ]
    },
    {
     "name": "stderr",
     "output_type": "stream",
     "text": [
      "100%|██████████| 1/1 [00:01<00:00,  1.42s/it]\n"
     ]
    },
    {
     "name": "stdout",
     "output_type": "stream",
     "text": [
      "Counterfactual flips misclassified instance label correctly\n",
      "Proxy does not fit for instance 2170\n"
     ]
    },
    {
     "name": "stderr",
     "output_type": "stream",
     "text": [
      "100%|██████████| 1/1 [00:00<00:00,  1.25it/s]\n"
     ]
    },
    {
     "name": "stdout",
     "output_type": "stream",
     "text": [
      "Counterfactual flips misclassified instance label correctly\n"
     ]
    },
    {
     "name": "stderr",
     "output_type": "stream",
     "text": [
      "100%|██████████| 1/1 [00:00<00:00,  1.13it/s]\n"
     ]
    },
    {
     "name": "stdout",
     "output_type": "stream",
     "text": [
      "Counterfactual flips misclassified instance label correctly\n"
     ]
    },
    {
     "name": "stderr",
     "output_type": "stream",
     "text": [
      "100%|██████████| 1/1 [00:00<00:00,  1.14it/s]\n"
     ]
    },
    {
     "name": "stdout",
     "output_type": "stream",
     "text": [
      "Counterfactual flips misclassified instance label correctly\n"
     ]
    },
    {
     "name": "stderr",
     "output_type": "stream",
     "text": [
      "100%|██████████| 1/1 [00:00<00:00,  1.21it/s]\n",
      "100%|██████████| 1/1 [00:00<00:00,  1.11it/s]\n"
     ]
    },
    {
     "name": "stdout",
     "output_type": "stream",
     "text": [
      "Counterfactual flips misclassified instance label correctly\n"
     ]
    },
    {
     "name": "stderr",
     "output_type": "stream",
     "text": [
      "100%|██████████| 1/1 [00:00<00:00,  1.11it/s]\n"
     ]
    },
    {
     "name": "stdout",
     "output_type": "stream",
     "text": [
      "Counterfactual flips misclassified instance label correctly\n",
      "Proxy does not fit for instance 2177\n",
      "Proxy does not fit for instance 2181\n",
      "Proxy does not fit for instance 2182\n",
      "Proxy does not fit for instance 2183\n",
      "Proxy does not fit for instance 2184\n",
      "Proxy does not fit for instance 2185\n",
      "Proxy does not fit for instance 2186\n",
      "Proxy does not fit for instance 2187\n",
      "Proxy does not fit for instance 2188\n"
     ]
    },
    {
     "name": "stderr",
     "output_type": "stream",
     "text": [
      "100%|██████████| 1/1 [00:00<00:00,  1.05it/s]\n",
      "100%|██████████| 1/1 [00:01<00:00,  1.01s/it]\n"
     ]
    },
    {
     "name": "stdout",
     "output_type": "stream",
     "text": [
      "Counterfactual flips misclassified instance label correctly\n"
     ]
    },
    {
     "name": "stderr",
     "output_type": "stream",
     "text": [
      "100%|██████████| 1/1 [00:01<00:00,  1.13s/it]\n"
     ]
    },
    {
     "name": "stdout",
     "output_type": "stream",
     "text": [
      "Proxy does not fit for instance 2194\n"
     ]
    },
    {
     "name": "stderr",
     "output_type": "stream",
     "text": [
      "100%|██████████| 1/1 [00:01<00:00,  1.17s/it]\n"
     ]
    },
    {
     "name": "stdout",
     "output_type": "stream",
     "text": [
      "Counterfactual flips misclassified instance label correctly\n"
     ]
    },
    {
     "name": "stderr",
     "output_type": "stream",
     "text": [
      "100%|██████████| 1/1 [00:01<00:00,  1.50s/it]"
     ]
    },
    {
     "name": "stdout",
     "output_type": "stream",
     "text": [
      "No Counterfactuals found for the given configuration, perhaps try with different parameters... ; total time taken: 00 min 01 sec\n",
      "No counterfactuals found for  2196\n"
     ]
    },
    {
     "name": "stderr",
     "output_type": "stream",
     "text": [
      "\n",
      "100%|██████████| 1/1 [00:01<00:00,  1.51s/it]"
     ]
    },
    {
     "name": "stdout",
     "output_type": "stream",
     "text": [
      "No Counterfactuals found for the given configuration, perhaps try with different parameters... ; total time taken: 00 min 01 sec\n",
      "No counterfactuals found for  2197\n"
     ]
    },
    {
     "name": "stderr",
     "output_type": "stream",
     "text": [
      "\n"
     ]
    },
    {
     "name": "stdout",
     "output_type": "stream",
     "text": [
      "Proxy does not fit for instance 2198\n",
      "Proxy does not fit for instance 2199\n",
      "Proxy does not fit for instance 2200\n"
     ]
    },
    {
     "name": "stderr",
     "output_type": "stream",
     "text": [
      "100%|██████████| 1/1 [00:01<00:00,  1.66s/it]"
     ]
    },
    {
     "name": "stdout",
     "output_type": "stream",
     "text": [
      "No Counterfactuals found for the given configuration, perhaps try with different parameters... ; total time taken: 00 min 01 sec\n",
      "No counterfactuals found for  2201\n"
     ]
    },
    {
     "name": "stderr",
     "output_type": "stream",
     "text": [
      "\n",
      "100%|██████████| 1/1 [00:01<00:00,  1.69s/it]"
     ]
    },
    {
     "name": "stdout",
     "output_type": "stream",
     "text": [
      "No Counterfactuals found for the given configuration, perhaps try with different parameters... ; total time taken: 00 min 01 sec\n",
      "No counterfactuals found for  2202\n"
     ]
    },
    {
     "name": "stderr",
     "output_type": "stream",
     "text": [
      "\n"
     ]
    },
    {
     "name": "stdout",
     "output_type": "stream",
     "text": [
      "Proxy does not fit for instance 2208\n",
      "Proxy does not fit for instance 2209\n",
      "Proxy does not fit for instance 2210\n",
      "Proxy does not fit for instance 2211\n",
      "Proxy does not fit for instance 2212\n",
      "Proxy does not fit for instance 2213\n"
     ]
    },
    {
     "name": "stderr",
     "output_type": "stream",
     "text": [
      "100%|██████████| 1/1 [00:00<00:00,  1.24it/s]\n"
     ]
    },
    {
     "name": "stdout",
     "output_type": "stream",
     "text": [
      "Counterfactual flips misclassified instance label correctly\n"
     ]
    },
    {
     "name": "stderr",
     "output_type": "stream",
     "text": [
      "100%|██████████| 1/1 [00:00<00:00,  1.35it/s]\n"
     ]
    },
    {
     "name": "stdout",
     "output_type": "stream",
     "text": [
      "Counterfactual flips misclassified instance label correctly\n"
     ]
    },
    {
     "name": "stderr",
     "output_type": "stream",
     "text": [
      "100%|██████████| 1/1 [00:01<00:00,  1.64s/it]"
     ]
    },
    {
     "name": "stdout",
     "output_type": "stream",
     "text": [
      "No Counterfactuals found for the given configuration, perhaps try with different parameters... ; total time taken: 00 min 01 sec\n",
      "No counterfactuals found for  2216\n"
     ]
    },
    {
     "name": "stderr",
     "output_type": "stream",
     "text": [
      "\n"
     ]
    },
    {
     "name": "stdout",
     "output_type": "stream",
     "text": [
      "Proxy does not fit for instance 2217\n",
      "Proxy does not fit for instance 2218\n"
     ]
    },
    {
     "name": "stderr",
     "output_type": "stream",
     "text": [
      "100%|██████████| 1/1 [00:01<00:00,  1.56s/it]"
     ]
    },
    {
     "name": "stdout",
     "output_type": "stream",
     "text": [
      "No Counterfactuals found for the given configuration, perhaps try with different parameters... ; total time taken: 00 min 01 sec\n",
      "No counterfactuals found for  2219\n"
     ]
    },
    {
     "name": "stderr",
     "output_type": "stream",
     "text": [
      "\n",
      "100%|██████████| 1/1 [00:00<00:00,  1.07it/s]\n",
      "100%|██████████| 1/1 [00:00<00:00,  1.09it/s]\n"
     ]
    },
    {
     "name": "stdout",
     "output_type": "stream",
     "text": [
      "Counterfactual flips misclassified instance label correctly\n"
     ]
    },
    {
     "name": "stderr",
     "output_type": "stream",
     "text": [
      "100%|██████████| 1/1 [00:00<00:00,  1.11it/s]\n"
     ]
    },
    {
     "name": "stdout",
     "output_type": "stream",
     "text": [
      "Counterfactual flips misclassified instance label correctly\n"
     ]
    },
    {
     "name": "stderr",
     "output_type": "stream",
     "text": [
      "100%|██████████| 1/1 [00:01<00:00,  1.62s/it]"
     ]
    },
    {
     "name": "stdout",
     "output_type": "stream",
     "text": [
      "No Counterfactuals found for the given configuration, perhaps try with different parameters... ; total time taken: 00 min 01 sec\n",
      "No counterfactuals found for  2223\n"
     ]
    },
    {
     "name": "stderr",
     "output_type": "stream",
     "text": [
      "\n"
     ]
    },
    {
     "name": "stdout",
     "output_type": "stream",
     "text": [
      "Proxy does not fit for instance 2224\n",
      "Proxy does not fit for instance 2225\n",
      "Proxy does not fit for instance 2226\n"
     ]
    },
    {
     "name": "stderr",
     "output_type": "stream",
     "text": [
      "100%|██████████| 1/1 [00:01<00:00,  1.53s/it]"
     ]
    },
    {
     "name": "stdout",
     "output_type": "stream",
     "text": [
      "No Counterfactuals found for the given configuration, perhaps try with different parameters... ; total time taken: 00 min 01 sec\n",
      "No counterfactuals found for  2227\n"
     ]
    },
    {
     "name": "stderr",
     "output_type": "stream",
     "text": [
      "\n"
     ]
    },
    {
     "name": "stdout",
     "output_type": "stream",
     "text": [
      "Proxy does not fit for instance 2228\n"
     ]
    },
    {
     "name": "stderr",
     "output_type": "stream",
     "text": [
      "100%|██████████| 1/1 [00:01<00:00,  1.09s/it]\n"
     ]
    },
    {
     "name": "stdout",
     "output_type": "stream",
     "text": [
      "Counterfactual flips misclassified instance label correctly\n"
     ]
    },
    {
     "name": "stderr",
     "output_type": "stream",
     "text": [
      "100%|██████████| 1/1 [00:01<00:00,  1.22s/it]\n"
     ]
    },
    {
     "name": "stdout",
     "output_type": "stream",
     "text": [
      "Counterfactual flips misclassified instance label correctly\n"
     ]
    },
    {
     "name": "stderr",
     "output_type": "stream",
     "text": [
      "100%|██████████| 1/1 [00:01<00:00,  1.27s/it]\n"
     ]
    },
    {
     "name": "stdout",
     "output_type": "stream",
     "text": [
      "Counterfactual flips misclassified instance label correctly\n"
     ]
    },
    {
     "name": "stderr",
     "output_type": "stream",
     "text": [
      "100%|██████████| 1/1 [00:01<00:00,  1.75s/it]"
     ]
    },
    {
     "name": "stdout",
     "output_type": "stream",
     "text": [
      "No Counterfactuals found for the given configuration, perhaps try with different parameters... ; total time taken: 00 min 01 sec\n",
      "No counterfactuals found for  2232\n"
     ]
    },
    {
     "name": "stderr",
     "output_type": "stream",
     "text": [
      "\n"
     ]
    },
    {
     "name": "stdout",
     "output_type": "stream",
     "text": [
      "Proxy does not fit for instance 2233\n",
      "Proxy does not fit for instance 2234\n",
      "Proxy does not fit for instance 2235\n",
      "Proxy does not fit for instance 2236\n",
      "Proxy does not fit for instance 2237\n",
      "Proxy does not fit for instance 2238\n",
      "Proxy does not fit for instance 2239\n",
      "Proxy does not fit for instance 2240\n",
      "Proxy does not fit for instance 2241\n",
      "Proxy does not fit for instance 2242\n",
      "Proxy does not fit for instance 2243\n",
      "Proxy does not fit for instance 2244\n",
      "Proxy does not fit for instance 2245\n",
      "Proxy does not fit for instance 2246\n",
      "Proxy does not fit for instance 2247\n"
     ]
    },
    {
     "name": "stderr",
     "output_type": "stream",
     "text": [
      "100%|██████████| 1/1 [00:00<00:00,  1.19it/s]\n",
      "100%|██████████| 1/1 [00:00<00:00,  1.20it/s]\n"
     ]
    },
    {
     "name": "stdout",
     "output_type": "stream",
     "text": [
      "Counterfactual flips misclassified instance label correctly\n"
     ]
    },
    {
     "name": "stderr",
     "output_type": "stream",
     "text": [
      "100%|██████████| 1/1 [00:01<00:00,  1.06s/it]\n"
     ]
    },
    {
     "name": "stdout",
     "output_type": "stream",
     "text": [
      "Counterfactual flips misclassified instance label correctly\n",
      "Proxy does not fit for instance 2251\n"
     ]
    },
    {
     "name": "stderr",
     "output_type": "stream",
     "text": [
      "100%|██████████| 1/1 [00:01<00:00,  1.58s/it]"
     ]
    },
    {
     "name": "stdout",
     "output_type": "stream",
     "text": [
      "No Counterfactuals found for the given configuration, perhaps try with different parameters... ; total time taken: 00 min 01 sec\n",
      "No counterfactuals found for  2252\n"
     ]
    },
    {
     "name": "stderr",
     "output_type": "stream",
     "text": [
      "\n",
      "100%|██████████| 1/1 [00:01<00:00,  1.58s/it]"
     ]
    },
    {
     "name": "stdout",
     "output_type": "stream",
     "text": [
      "No Counterfactuals found for the given configuration, perhaps try with different parameters... ; total time taken: 00 min 01 sec\n",
      "No counterfactuals found for  2253\n"
     ]
    },
    {
     "name": "stderr",
     "output_type": "stream",
     "text": [
      "\n",
      "100%|██████████| 1/1 [00:01<00:00,  1.97s/it]"
     ]
    },
    {
     "name": "stdout",
     "output_type": "stream",
     "text": [
      "No Counterfactuals found for the given configuration, perhaps try with different parameters... ; total time taken: 00 min 01 sec\n",
      "No counterfactuals found for  2254\n"
     ]
    },
    {
     "name": "stderr",
     "output_type": "stream",
     "text": [
      "\n",
      "100%|██████████| 1/1 [00:01<00:00,  1.59s/it]"
     ]
    },
    {
     "name": "stdout",
     "output_type": "stream",
     "text": [
      "No Counterfactuals found for the given configuration, perhaps try with different parameters... ; total time taken: 00 min 01 sec\n",
      "No counterfactuals found for  2255\n"
     ]
    },
    {
     "name": "stderr",
     "output_type": "stream",
     "text": [
      "\n",
      "100%|██████████| 1/1 [00:01<00:00,  1.55s/it]"
     ]
    },
    {
     "name": "stdout",
     "output_type": "stream",
     "text": [
      "No Counterfactuals found for the given configuration, perhaps try with different parameters... ; total time taken: 00 min 01 sec\n",
      "No counterfactuals found for  2256\n"
     ]
    },
    {
     "name": "stderr",
     "output_type": "stream",
     "text": [
      "\n"
     ]
    },
    {
     "name": "stdout",
     "output_type": "stream",
     "text": [
      "Proxy does not fit for instance 2257\n",
      "Proxy does not fit for instance 2258\n",
      "Proxy does not fit for instance 2259\n",
      "Proxy does not fit for instance 2260\n",
      "Proxy does not fit for instance 2261\n",
      "Proxy does not fit for instance 2262\n"
     ]
    },
    {
     "name": "stderr",
     "output_type": "stream",
     "text": [
      "100%|██████████| 1/1 [00:00<00:00,  1.29it/s]\n"
     ]
    },
    {
     "name": "stdout",
     "output_type": "stream",
     "text": [
      "Counterfactual flips misclassified instance label correctly\n",
      "Proxy does not fit for instance 2264\n",
      "Proxy does not fit for instance 2265\n",
      "Proxy does not fit for instance 2266\n"
     ]
    },
    {
     "name": "stderr",
     "output_type": "stream",
     "text": [
      "100%|██████████| 1/1 [00:00<00:00,  1.32it/s]\n"
     ]
    },
    {
     "name": "stdout",
     "output_type": "stream",
     "text": [
      "Counterfactual flips misclassified instance label correctly\n"
     ]
    },
    {
     "name": "stderr",
     "output_type": "stream",
     "text": [
      "100%|██████████| 1/1 [00:00<00:00,  1.18it/s]\n",
      "100%|██████████| 1/1 [00:01<00:00,  1.28s/it]\n"
     ]
    },
    {
     "name": "stdout",
     "output_type": "stream",
     "text": [
      "Counterfactual flips misclassified instance label correctly\n"
     ]
    },
    {
     "name": "stderr",
     "output_type": "stream",
     "text": [
      "100%|██████████| 1/1 [00:01<00:00,  1.37s/it]\n"
     ]
    },
    {
     "name": "stdout",
     "output_type": "stream",
     "text": [
      "Counterfactual flips misclassified instance label correctly\n",
      "Proxy does not fit for instance 2271\n",
      "Proxy does not fit for instance 2272\n",
      "Proxy does not fit for instance 2273\n",
      "Proxy does not fit for instance 2274\n"
     ]
    },
    {
     "name": "stderr",
     "output_type": "stream",
     "text": [
      "100%|██████████| 1/1 [00:01<00:00,  1.05s/it]\n"
     ]
    },
    {
     "name": "stdout",
     "output_type": "stream",
     "text": [
      "Counterfactual flips misclassified instance label correctly\n"
     ]
    },
    {
     "name": "stderr",
     "output_type": "stream",
     "text": [
      "100%|██████████| 1/1 [00:01<00:00,  1.04s/it]\n"
     ]
    },
    {
     "name": "stdout",
     "output_type": "stream",
     "text": [
      "Counterfactual flips misclassified instance label correctly\n"
     ]
    },
    {
     "name": "stderr",
     "output_type": "stream",
     "text": [
      "100%|██████████| 1/1 [00:01<00:00,  1.13s/it]\n"
     ]
    },
    {
     "name": "stdout",
     "output_type": "stream",
     "text": [
      "Counterfactual flips misclassified instance label correctly\n",
      "Proxy does not fit for instance 2278\n",
      "Proxy does not fit for instance 2279\n",
      "Proxy does not fit for instance 2280\n",
      "Proxy does not fit for instance 2281\n",
      "Proxy does not fit for instance 2282\n"
     ]
    },
    {
     "name": "stderr",
     "output_type": "stream",
     "text": [
      "100%|██████████| 1/1 [00:00<00:00,  1.16it/s]\n"
     ]
    },
    {
     "name": "stdout",
     "output_type": "stream",
     "text": [
      "Counterfactual flips misclassified instance label correctly\n"
     ]
    },
    {
     "name": "stderr",
     "output_type": "stream",
     "text": [
      "100%|██████████| 1/1 [00:00<00:00,  1.07it/s]\n"
     ]
    },
    {
     "name": "stdout",
     "output_type": "stream",
     "text": [
      "Counterfactual flips misclassified instance label correctly\n"
     ]
    },
    {
     "name": "stderr",
     "output_type": "stream",
     "text": [
      "100%|██████████| 1/1 [00:01<00:00,  1.55s/it]"
     ]
    },
    {
     "name": "stdout",
     "output_type": "stream",
     "text": [
      "No Counterfactuals found for the given configuration, perhaps try with different parameters... ; total time taken: 00 min 01 sec\n",
      "No counterfactuals found for  2285\n"
     ]
    },
    {
     "name": "stderr",
     "output_type": "stream",
     "text": [
      "\n"
     ]
    },
    {
     "name": "stdout",
     "output_type": "stream",
     "text": [
      "Proxy does not fit for instance 2286\n"
     ]
    },
    {
     "name": "stderr",
     "output_type": "stream",
     "text": [
      "100%|██████████| 1/1 [00:00<00:00,  1.33it/s]\n"
     ]
    },
    {
     "name": "stdout",
     "output_type": "stream",
     "text": [
      "Counterfactual flips misclassified instance label correctly\n"
     ]
    },
    {
     "name": "stderr",
     "output_type": "stream",
     "text": [
      "100%|██████████| 1/1 [00:00<00:00,  1.09it/s]\n"
     ]
    },
    {
     "name": "stdout",
     "output_type": "stream",
     "text": [
      "Counterfactual flips misclassified instance label correctly\n",
      "Proxy does not fit for instance 2289\n",
      "Proxy does not fit for instance 2290\n",
      "Proxy does not fit for instance 2291\n",
      "Proxy does not fit for instance 2292\n",
      "Proxy does not fit for instance 2293\n",
      "Proxy does not fit for instance 2294\n"
     ]
    },
    {
     "name": "stderr",
     "output_type": "stream",
     "text": [
      "100%|██████████| 1/1 [00:01<00:00,  1.67s/it]"
     ]
    },
    {
     "name": "stdout",
     "output_type": "stream",
     "text": [
      "No Counterfactuals found for the given configuration, perhaps try with different parameters... ; total time taken: 00 min 01 sec\n",
      "No counterfactuals found for  2295\n"
     ]
    },
    {
     "name": "stderr",
     "output_type": "stream",
     "text": [
      "\n"
     ]
    },
    {
     "name": "stdout",
     "output_type": "stream",
     "text": [
      "Proxy does not fit for instance 2296\n",
      "Proxy does not fit for instance 2297\n",
      "Proxy does not fit for instance 2298\n",
      "Proxy does not fit for instance 2299\n",
      "Proxy does not fit for instance 2300\n",
      "Proxy does not fit for instance 2301\n",
      "Proxy does not fit for instance 2302\n",
      "Proxy does not fit for instance 2303\n",
      "Proxy does not fit for instance 2304\n",
      "Proxy does not fit for instance 2305\n",
      "Proxy does not fit for instance 2306\n",
      "Proxy does not fit for instance 2307\n",
      "Proxy does not fit for instance 2308\n",
      "Proxy does not fit for instance 2309\n",
      "Proxy does not fit for instance 2310\n",
      "Proxy does not fit for instance 2311\n",
      "Proxy does not fit for instance 2312\n",
      "Proxy does not fit for instance 2314\n",
      "Proxy does not fit for instance 2315\n"
     ]
    },
    {
     "name": "stderr",
     "output_type": "stream",
     "text": [
      "100%|██████████| 1/1 [00:00<00:00,  1.17it/s]\n",
      "100%|██████████| 1/1 [00:00<00:00,  1.32it/s]\n"
     ]
    },
    {
     "name": "stdout",
     "output_type": "stream",
     "text": [
      "Counterfactual flips misclassified instance label correctly\n"
     ]
    },
    {
     "name": "stderr",
     "output_type": "stream",
     "text": [
      "100%|██████████| 1/1 [00:00<00:00,  1.19it/s]\n"
     ]
    },
    {
     "name": "stdout",
     "output_type": "stream",
     "text": [
      "Counterfactual flips misclassified instance label correctly\n",
      "Proxy does not fit for instance 2319\n",
      "Proxy does not fit for instance 2320\n",
      "Proxy does not fit for instance 2321\n",
      "Proxy does not fit for instance 2322\n",
      "Proxy does not fit for instance 2323\n",
      "Proxy does not fit for instance 2324\n"
     ]
    },
    {
     "name": "stderr",
     "output_type": "stream",
     "text": [
      "100%|██████████| 1/1 [00:01<00:00,  1.65s/it]\n"
     ]
    },
    {
     "name": "stdout",
     "output_type": "stream",
     "text": [
      "Counterfactual flips misclassified instance label correctly\n"
     ]
    },
    {
     "name": "stderr",
     "output_type": "stream",
     "text": [
      "100%|██████████| 1/1 [00:01<00:00,  1.55s/it]\n"
     ]
    },
    {
     "name": "stdout",
     "output_type": "stream",
     "text": [
      "Counterfactual flips misclassified instance label correctly\n"
     ]
    },
    {
     "name": "stderr",
     "output_type": "stream",
     "text": [
      "100%|██████████| 1/1 [00:01<00:00,  1.39s/it]\n"
     ]
    },
    {
     "name": "stdout",
     "output_type": "stream",
     "text": [
      "Counterfactual flips misclassified instance label correctly\n"
     ]
    },
    {
     "name": "stderr",
     "output_type": "stream",
     "text": [
      "100%|██████████| 1/1 [00:01<00:00,  1.70s/it]"
     ]
    },
    {
     "name": "stdout",
     "output_type": "stream",
     "text": [
      "No Counterfactuals found for the given configuration, perhaps try with different parameters... ; total time taken: 00 min 01 sec\n",
      "No counterfactuals found for  2328\n"
     ]
    },
    {
     "name": "stderr",
     "output_type": "stream",
     "text": [
      "\n"
     ]
    },
    {
     "name": "stdout",
     "output_type": "stream",
     "text": [
      "Proxy does not fit for instance 2330\n",
      "Proxy does not fit for instance 2331\n",
      "Proxy does not fit for instance 2332\n"
     ]
    },
    {
     "name": "stderr",
     "output_type": "stream",
     "text": [
      "100%|██████████| 1/1 [00:01<00:00,  1.08s/it]\n"
     ]
    },
    {
     "name": "stdout",
     "output_type": "stream",
     "text": [
      "Counterfactual flips misclassified instance label correctly\n"
     ]
    },
    {
     "name": "stderr",
     "output_type": "stream",
     "text": [
      "100%|██████████| 1/1 [00:01<00:00,  1.58s/it]"
     ]
    },
    {
     "name": "stdout",
     "output_type": "stream",
     "text": [
      "No Counterfactuals found for the given configuration, perhaps try with different parameters... ; total time taken: 00 min 01 sec\n",
      "No counterfactuals found for  2334\n"
     ]
    },
    {
     "name": "stderr",
     "output_type": "stream",
     "text": [
      "\n",
      "100%|██████████| 1/1 [00:01<00:00,  1.03s/it]\n"
     ]
    },
    {
     "name": "stdout",
     "output_type": "stream",
     "text": [
      "Counterfactual flips misclassified instance label correctly\n"
     ]
    },
    {
     "name": "stderr",
     "output_type": "stream",
     "text": [
      "100%|██████████| 1/1 [00:01<00:00,  1.88s/it]\n"
     ]
    },
    {
     "name": "stdout",
     "output_type": "stream",
     "text": [
      "Counterfactual flips misclassified instance label correctly\n"
     ]
    },
    {
     "name": "stderr",
     "output_type": "stream",
     "text": [
      "100%|██████████| 1/1 [00:01<00:00,  1.55s/it]"
     ]
    },
    {
     "name": "stdout",
     "output_type": "stream",
     "text": [
      "No Counterfactuals found for the given configuration, perhaps try with different parameters... ; total time taken: 00 min 01 sec\n",
      "No counterfactuals found for  2337\n"
     ]
    },
    {
     "name": "stderr",
     "output_type": "stream",
     "text": [
      "\n"
     ]
    },
    {
     "name": "stdout",
     "output_type": "stream",
     "text": [
      "Proxy does not fit for instance 2338\n",
      "Proxy does not fit for instance 2339\n",
      "Proxy does not fit for instance 2340\n",
      "Proxy does not fit for instance 2341\n",
      "Proxy does not fit for instance 2342\n",
      "Proxy does not fit for instance 2343\n",
      "Proxy does not fit for instance 2344\n",
      "Proxy does not fit for instance 2345\n",
      "Proxy does not fit for instance 2346\n",
      "Proxy does not fit for instance 2347\n",
      "Proxy does not fit for instance 2348\n"
     ]
    },
    {
     "name": "stderr",
     "output_type": "stream",
     "text": [
      "100%|██████████| 1/1 [00:01<00:00,  1.72s/it]"
     ]
    },
    {
     "name": "stdout",
     "output_type": "stream",
     "text": [
      "No Counterfactuals found for the given configuration, perhaps try with different parameters... ; total time taken: 00 min 01 sec\n",
      "No counterfactuals found for  2349\n"
     ]
    },
    {
     "name": "stderr",
     "output_type": "stream",
     "text": [
      "\n",
      "100%|██████████| 1/1 [00:00<00:00,  1.28it/s]\n",
      "100%|██████████| 1/1 [00:00<00:00,  1.28it/s]\n",
      "100%|██████████| 1/1 [00:01<00:00,  1.64s/it]"
     ]
    },
    {
     "name": "stdout",
     "output_type": "stream",
     "text": [
      "No Counterfactuals found for the given configuration, perhaps try with different parameters... ; total time taken: 00 min 01 sec\n",
      "No counterfactuals found for  2352\n"
     ]
    },
    {
     "name": "stderr",
     "output_type": "stream",
     "text": [
      "\n",
      "100%|██████████| 1/1 [00:01<00:00,  1.52s/it]"
     ]
    },
    {
     "name": "stdout",
     "output_type": "stream",
     "text": [
      "No Counterfactuals found for the given configuration, perhaps try with different parameters... ; total time taken: 00 min 01 sec\n",
      "No counterfactuals found for  2353\n"
     ]
    },
    {
     "name": "stderr",
     "output_type": "stream",
     "text": [
      "\n",
      "100%|██████████| 1/1 [00:01<00:00,  1.53s/it]"
     ]
    },
    {
     "name": "stdout",
     "output_type": "stream",
     "text": [
      "No Counterfactuals found for the given configuration, perhaps try with different parameters... ; total time taken: 00 min 01 sec\n",
      "No counterfactuals found for  2360\n"
     ]
    },
    {
     "name": "stderr",
     "output_type": "stream",
     "text": [
      "\n",
      "100%|██████████| 1/1 [00:01<00:00,  1.49s/it]"
     ]
    },
    {
     "name": "stdout",
     "output_type": "stream",
     "text": [
      "No Counterfactuals found for the given configuration, perhaps try with different parameters... ; total time taken: 00 min 01 sec\n",
      "No counterfactuals found for  2361\n"
     ]
    },
    {
     "name": "stderr",
     "output_type": "stream",
     "text": [
      "\n"
     ]
    },
    {
     "name": "stdout",
     "output_type": "stream",
     "text": [
      "Proxy does not fit for instance 2362\n",
      "Proxy does not fit for instance 2363\n",
      "Proxy does not fit for instance 2364\n",
      "Proxy does not fit for instance 2365\n",
      "Proxy does not fit for instance 2366\n"
     ]
    },
    {
     "name": "stderr",
     "output_type": "stream",
     "text": [
      "100%|██████████| 1/1 [00:01<00:00,  1.37s/it]\n",
      "100%|██████████| 1/1 [00:01<00:00,  1.75s/it]"
     ]
    },
    {
     "name": "stdout",
     "output_type": "stream",
     "text": [
      "No Counterfactuals found for the given configuration, perhaps try with different parameters... ; total time taken: 00 min 01 sec\n",
      "No counterfactuals found for  2387\n"
     ]
    },
    {
     "name": "stderr",
     "output_type": "stream",
     "text": [
      "\n",
      "100%|██████████| 1/1 [00:01<00:00,  1.84s/it]"
     ]
    },
    {
     "name": "stdout",
     "output_type": "stream",
     "text": [
      "No Counterfactuals found for the given configuration, perhaps try with different parameters... ; total time taken: 00 min 01 sec\n",
      "No counterfactuals found for  2388\n"
     ]
    },
    {
     "name": "stderr",
     "output_type": "stream",
     "text": [
      "\n"
     ]
    },
    {
     "name": "stdout",
     "output_type": "stream",
     "text": [
      "Proxy does not fit for instance 2389\n"
     ]
    },
    {
     "name": "stderr",
     "output_type": "stream",
     "text": [
      "100%|██████████| 1/1 [00:00<00:00,  1.19it/s]\n"
     ]
    },
    {
     "name": "stdout",
     "output_type": "stream",
     "text": [
      "Counterfactual flips misclassified instance label correctly\n"
     ]
    },
    {
     "name": "stderr",
     "output_type": "stream",
     "text": [
      "100%|██████████| 1/1 [00:00<00:00,  1.13it/s]\n"
     ]
    },
    {
     "name": "stdout",
     "output_type": "stream",
     "text": [
      "Counterfactual flips misclassified instance label correctly\n"
     ]
    },
    {
     "name": "stderr",
     "output_type": "stream",
     "text": [
      "100%|██████████| 1/1 [00:00<00:00,  1.30it/s]\n"
     ]
    },
    {
     "name": "stdout",
     "output_type": "stream",
     "text": [
      "Counterfactual flips misclassified instance label correctly\n"
     ]
    },
    {
     "name": "stderr",
     "output_type": "stream",
     "text": [
      "100%|██████████| 1/1 [00:00<00:00,  1.15it/s]\n"
     ]
    },
    {
     "name": "stdout",
     "output_type": "stream",
     "text": [
      "Counterfactual flips misclassified instance label correctly\n"
     ]
    },
    {
     "name": "stderr",
     "output_type": "stream",
     "text": [
      "100%|██████████| 1/1 [00:00<00:00,  1.16it/s]\n"
     ]
    },
    {
     "name": "stdout",
     "output_type": "stream",
     "text": [
      "Counterfactual flips misclassified instance label correctly\n"
     ]
    },
    {
     "name": "stderr",
     "output_type": "stream",
     "text": [
      "100%|██████████| 1/1 [00:00<00:00,  1.22it/s]\n"
     ]
    },
    {
     "name": "stdout",
     "output_type": "stream",
     "text": [
      "Counterfactual flips misclassified instance label correctly\n"
     ]
    },
    {
     "name": "stderr",
     "output_type": "stream",
     "text": [
      "100%|██████████| 1/1 [00:01<00:00,  1.35s/it]\n",
      "100%|██████████| 1/1 [00:00<00:00,  1.21it/s]\n",
      "100%|██████████| 1/1 [00:00<00:00,  1.24it/s]\n"
     ]
    },
    {
     "name": "stdout",
     "output_type": "stream",
     "text": [
      "Counterfactual flips misclassified instance label correctly\n"
     ]
    },
    {
     "name": "stderr",
     "output_type": "stream",
     "text": [
      "100%|██████████| 1/1 [00:00<00:00,  1.09it/s]\n"
     ]
    },
    {
     "name": "stdout",
     "output_type": "stream",
     "text": [
      "Counterfactual flips misclassified instance label correctly\n"
     ]
    },
    {
     "name": "stderr",
     "output_type": "stream",
     "text": [
      "100%|██████████| 1/1 [00:00<00:00,  1.19it/s]\n"
     ]
    },
    {
     "name": "stdout",
     "output_type": "stream",
     "text": [
      "Counterfactual flips misclassified instance label correctly\n"
     ]
    },
    {
     "name": "stderr",
     "output_type": "stream",
     "text": [
      "100%|██████████| 1/1 [00:01<00:00,  1.64s/it]"
     ]
    },
    {
     "name": "stdout",
     "output_type": "stream",
     "text": [
      "No Counterfactuals found for the given configuration, perhaps try with different parameters... ; total time taken: 00 min 01 sec\n",
      "No counterfactuals found for  2443\n"
     ]
    },
    {
     "name": "stderr",
     "output_type": "stream",
     "text": [
      "\n"
     ]
    },
    {
     "name": "stdout",
     "output_type": "stream",
     "text": [
      "Proxy does not fit for instance 2445\n",
      "Proxy does not fit for instance 2446\n",
      "Proxy does not fit for instance 2447\n"
     ]
    },
    {
     "name": "stderr",
     "output_type": "stream",
     "text": [
      "100%|██████████| 1/1 [00:01<00:00,  1.13s/it]\n"
     ]
    },
    {
     "name": "stdout",
     "output_type": "stream",
     "text": [
      "Counterfactual flips misclassified instance label correctly\n"
     ]
    },
    {
     "name": "stderr",
     "output_type": "stream",
     "text": [
      "100%|██████████| 1/1 [00:00<00:00,  1.11it/s]\n"
     ]
    },
    {
     "name": "stdout",
     "output_type": "stream",
     "text": [
      "Counterfactual flips misclassified instance label correctly\n"
     ]
    },
    {
     "name": "stderr",
     "output_type": "stream",
     "text": [
      "100%|██████████| 1/1 [00:00<00:00,  1.16it/s]\n"
     ]
    },
    {
     "name": "stdout",
     "output_type": "stream",
     "text": [
      "Counterfactual flips misclassified instance label correctly\n"
     ]
    },
    {
     "name": "stderr",
     "output_type": "stream",
     "text": [
      "100%|██████████| 1/1 [00:01<00:00,  1.53s/it]"
     ]
    },
    {
     "name": "stdout",
     "output_type": "stream",
     "text": [
      "No Counterfactuals found for the given configuration, perhaps try with different parameters... ; total time taken: 00 min 01 sec\n",
      "No counterfactuals found for  2458\n"
     ]
    },
    {
     "name": "stderr",
     "output_type": "stream",
     "text": [
      "\n",
      "100%|██████████| 1/1 [00:00<00:00,  1.32it/s]\n"
     ]
    },
    {
     "name": "stdout",
     "output_type": "stream",
     "text": [
      "Counterfactual flips misclassified instance label correctly\n"
     ]
    },
    {
     "name": "stderr",
     "output_type": "stream",
     "text": [
      "100%|██████████| 1/1 [00:00<00:00,  1.17it/s]\n"
     ]
    },
    {
     "name": "stdout",
     "output_type": "stream",
     "text": [
      "Counterfactual flips misclassified instance label correctly\n"
     ]
    },
    {
     "name": "stderr",
     "output_type": "stream",
     "text": [
      "100%|██████████| 1/1 [00:00<00:00,  1.01it/s]\n"
     ]
    },
    {
     "name": "stdout",
     "output_type": "stream",
     "text": [
      "Counterfactual flips misclassified instance label correctly\n"
     ]
    },
    {
     "name": "stderr",
     "output_type": "stream",
     "text": [
      "100%|██████████| 1/1 [00:00<00:00,  1.06it/s]\n"
     ]
    },
    {
     "name": "stdout",
     "output_type": "stream",
     "text": [
      "Counterfactual flips misclassified instance label correctly\n"
     ]
    },
    {
     "name": "stderr",
     "output_type": "stream",
     "text": [
      "100%|██████████| 1/1 [00:00<00:00,  1.29it/s]\n"
     ]
    },
    {
     "name": "stdout",
     "output_type": "stream",
     "text": [
      "Counterfactual flips misclassified instance label correctly\n"
     ]
    },
    {
     "name": "stderr",
     "output_type": "stream",
     "text": [
      "100%|██████████| 1/1 [00:00<00:00,  1.14it/s]\n"
     ]
    },
    {
     "name": "stdout",
     "output_type": "stream",
     "text": [
      "Proxy does not fit for instance 2481\n",
      "Proxy does not fit for instance 2482\n"
     ]
    },
    {
     "name": "stderr",
     "output_type": "stream",
     "text": [
      "100%|██████████| 1/1 [00:01<00:00,  1.59s/it]"
     ]
    },
    {
     "name": "stdout",
     "output_type": "stream",
     "text": [
      "No Counterfactuals found for the given configuration, perhaps try with different parameters... ; total time taken: 00 min 01 sec\n",
      "No counterfactuals found for  2483\n"
     ]
    },
    {
     "name": "stderr",
     "output_type": "stream",
     "text": [
      "\n"
     ]
    },
    {
     "name": "stdout",
     "output_type": "stream",
     "text": [
      "Proxy does not fit for instance 2484\n",
      "Proxy does not fit for instance 2485\n"
     ]
    },
    {
     "name": "stderr",
     "output_type": "stream",
     "text": [
      "100%|██████████| 1/1 [00:00<00:00,  1.18it/s]\n"
     ]
    },
    {
     "name": "stdout",
     "output_type": "stream",
     "text": [
      "Counterfactual flips misclassified instance label correctly\n",
      "Proxy does not fit for instance 2487\n"
     ]
    },
    {
     "name": "stderr",
     "output_type": "stream",
     "text": [
      "100%|██████████| 1/1 [00:01<00:00,  1.10s/it]\n"
     ]
    },
    {
     "name": "stdout",
     "output_type": "stream",
     "text": [
      "Counterfactual flips misclassified instance label correctly\n",
      "Proxy does not fit for instance 2489\n",
      "Proxy does not fit for instance 2490\n",
      "Proxy does not fit for instance 2491\n",
      "Proxy does not fit for instance 2492\n",
      "Proxy does not fit for instance 2493\n",
      "Proxy does not fit for instance 2494\n"
     ]
    },
    {
     "name": "stderr",
     "output_type": "stream",
     "text": [
      "100%|██████████| 1/1 [00:01<00:00,  1.08s/it]\n",
      "100%|██████████| 1/1 [00:00<00:00,  1.18it/s]\n"
     ]
    },
    {
     "name": "stdout",
     "output_type": "stream",
     "text": [
      "Proxy does not fit for instance 2498\n",
      "Proxy does not fit for instance 2499\n"
     ]
    },
    {
     "name": "stderr",
     "output_type": "stream",
     "text": [
      "100%|██████████| 1/1 [00:00<00:00,  1.19it/s]\n"
     ]
    },
    {
     "name": "stdout",
     "output_type": "stream",
     "text": [
      "Counterfactual flips misclassified instance label correctly\n"
     ]
    },
    {
     "name": "stderr",
     "output_type": "stream",
     "text": [
      "100%|██████████| 1/1 [00:02<00:00,  2.21s/it]\n"
     ]
    },
    {
     "name": "stdout",
     "output_type": "stream",
     "text": [
      "No Counterfactuals found for the given configuration, perhaps try with different parameters... ; total time taken: 00 min 02 sec\n",
      "No counterfactuals found for  2506\n"
     ]
    },
    {
     "name": "stderr",
     "output_type": "stream",
     "text": [
      "100%|██████████| 1/1 [00:01<00:00,  1.05s/it]\n"
     ]
    },
    {
     "name": "stdout",
     "output_type": "stream",
     "text": [
      "Counterfactual flips misclassified instance label correctly\n"
     ]
    },
    {
     "name": "stderr",
     "output_type": "stream",
     "text": [
      "100%|██████████| 1/1 [00:00<00:00,  1.23it/s]\n",
      "100%|██████████| 1/1 [00:01<00:00,  1.14s/it]\n"
     ]
    },
    {
     "name": "stdout",
     "output_type": "stream",
     "text": [
      "Counterfactual flips misclassified instance label correctly\n",
      "Proxy does not fit for instance 2511\n"
     ]
    },
    {
     "name": "stderr",
     "output_type": "stream",
     "text": [
      "100%|██████████| 1/1 [00:01<00:00,  1.94s/it]\n",
      "100%|██████████| 1/1 [00:00<00:00,  1.09it/s]\n"
     ]
    },
    {
     "name": "stdout",
     "output_type": "stream",
     "text": [
      "Counterfactual flips misclassified instance label correctly\n"
     ]
    },
    {
     "name": "stderr",
     "output_type": "stream",
     "text": [
      "100%|██████████| 1/1 [00:01<00:00,  1.74s/it]"
     ]
    },
    {
     "name": "stdout",
     "output_type": "stream",
     "text": [
      "No Counterfactuals found for the given configuration, perhaps try with different parameters... ; total time taken: 00 min 01 sec\n",
      "No counterfactuals found for  2528\n"
     ]
    },
    {
     "name": "stderr",
     "output_type": "stream",
     "text": [
      "\n",
      "100%|██████████| 1/1 [00:00<00:00,  1.01it/s]\n"
     ]
    },
    {
     "name": "stdout",
     "output_type": "stream",
     "text": [
      "Counterfactual flips misclassified instance label correctly\n"
     ]
    },
    {
     "name": "stderr",
     "output_type": "stream",
     "text": [
      "100%|██████████| 1/1 [00:00<00:00,  1.17it/s]\n"
     ]
    },
    {
     "name": "stdout",
     "output_type": "stream",
     "text": [
      "Counterfactual flips misclassified instance label correctly\n",
      "Proxy does not fit for instance 2542\n",
      "Proxy does not fit for instance 2543\n",
      "Proxy does not fit for instance 2544\n",
      "Proxy does not fit for instance 2545\n",
      "Proxy does not fit for instance 2546\n",
      "Proxy does not fit for instance 2547\n",
      "Proxy does not fit for instance 2548\n"
     ]
    },
    {
     "name": "stderr",
     "output_type": "stream",
     "text": [
      "100%|██████████| 1/1 [00:01<00:00,  1.97s/it]"
     ]
    },
    {
     "name": "stdout",
     "output_type": "stream",
     "text": [
      "No Counterfactuals found for the given configuration, perhaps try with different parameters... ; total time taken: 00 min 01 sec\n",
      "No counterfactuals found for  2549\n"
     ]
    },
    {
     "name": "stderr",
     "output_type": "stream",
     "text": [
      "\n",
      "100%|██████████| 1/1 [00:00<00:00,  1.17it/s]\n",
      "100%|██████████| 1/1 [00:00<00:00,  1.08it/s]\n"
     ]
    },
    {
     "name": "stdout",
     "output_type": "stream",
     "text": [
      "Counterfactual flips misclassified instance label correctly\n"
     ]
    },
    {
     "name": "stderr",
     "output_type": "stream",
     "text": [
      "100%|██████████| 1/1 [00:01<00:00,  1.38s/it]\n"
     ]
    },
    {
     "name": "stdout",
     "output_type": "stream",
     "text": [
      "Counterfactual flips misclassified instance label correctly\n"
     ]
    },
    {
     "name": "stderr",
     "output_type": "stream",
     "text": [
      "100%|██████████| 1/1 [00:00<00:00,  1.38it/s]\n"
     ]
    },
    {
     "name": "stdout",
     "output_type": "stream",
     "text": [
      "Counterfactual flips misclassified instance label correctly\n"
     ]
    },
    {
     "name": "stderr",
     "output_type": "stream",
     "text": [
      "100%|██████████| 1/1 [00:01<00:00,  1.63s/it]"
     ]
    },
    {
     "name": "stdout",
     "output_type": "stream",
     "text": [
      "No Counterfactuals found for the given configuration, perhaps try with different parameters... ; total time taken: 00 min 01 sec\n",
      "No counterfactuals found for  2629\n"
     ]
    },
    {
     "name": "stderr",
     "output_type": "stream",
     "text": [
      "\n",
      "100%|██████████| 1/1 [00:00<00:00,  1.39it/s]\n"
     ]
    },
    {
     "name": "stdout",
     "output_type": "stream",
     "text": [
      "Counterfactual flips misclassified instance label correctly\n"
     ]
    },
    {
     "name": "stderr",
     "output_type": "stream",
     "text": [
      "100%|██████████| 1/1 [00:00<00:00,  1.25it/s]\n"
     ]
    },
    {
     "name": "stdout",
     "output_type": "stream",
     "text": [
      "Counterfactual flips misclassified instance label correctly\n"
     ]
    },
    {
     "name": "stderr",
     "output_type": "stream",
     "text": [
      "100%|██████████| 1/1 [00:00<00:00,  1.30it/s]\n"
     ]
    },
    {
     "name": "stdout",
     "output_type": "stream",
     "text": [
      "Counterfactual flips misclassified instance label correctly\n"
     ]
    },
    {
     "name": "stderr",
     "output_type": "stream",
     "text": [
      "100%|██████████| 1/1 [00:00<00:00,  1.30it/s]\n"
     ]
    },
    {
     "name": "stdout",
     "output_type": "stream",
     "text": [
      "Counterfactual flips misclassified instance label correctly\n"
     ]
    },
    {
     "name": "stderr",
     "output_type": "stream",
     "text": [
      "100%|██████████| 1/1 [00:00<00:00,  1.30it/s]\n"
     ]
    },
    {
     "name": "stdout",
     "output_type": "stream",
     "text": [
      "Counterfactual flips misclassified instance label correctly\n"
     ]
    },
    {
     "name": "stderr",
     "output_type": "stream",
     "text": [
      "100%|██████████| 1/1 [00:01<00:00,  1.60s/it]"
     ]
    },
    {
     "name": "stdout",
     "output_type": "stream",
     "text": [
      "No Counterfactuals found for the given configuration, perhaps try with different parameters... ; total time taken: 00 min 01 sec\n",
      "No counterfactuals found for  2641\n"
     ]
    },
    {
     "name": "stderr",
     "output_type": "stream",
     "text": [
      "\n",
      "100%|██████████| 1/1 [00:01<00:00,  1.49s/it]"
     ]
    },
    {
     "name": "stdout",
     "output_type": "stream",
     "text": [
      "No Counterfactuals found for the given configuration, perhaps try with different parameters... ; total time taken: 00 min 01 sec\n",
      "No counterfactuals found for  2644\n"
     ]
    },
    {
     "name": "stderr",
     "output_type": "stream",
     "text": [
      "\n",
      "100%|██████████| 1/1 [00:01<00:00,  1.38s/it]"
     ]
    },
    {
     "name": "stdout",
     "output_type": "stream",
     "text": [
      "No Counterfactuals found for the given configuration, perhaps try with different parameters... ; total time taken: 00 min 01 sec\n",
      "No counterfactuals found for  2659\n"
     ]
    },
    {
     "name": "stderr",
     "output_type": "stream",
     "text": [
      "\n",
      "100%|██████████| 1/1 [00:00<00:00,  1.26it/s]\n",
      "100%|██████████| 1/1 [00:01<00:00,  1.74s/it]\n",
      "100%|██████████| 1/1 [00:00<00:00,  1.26it/s]\n"
     ]
    },
    {
     "name": "stdout",
     "output_type": "stream",
     "text": [
      "Proxy does not fit for instance 2663\n"
     ]
    },
    {
     "name": "stderr",
     "output_type": "stream",
     "text": [
      "100%|██████████| 1/1 [00:00<00:00,  1.08it/s]\n",
      "100%|██████████| 1/1 [00:00<00:00,  1.43it/s]\n"
     ]
    },
    {
     "name": "stdout",
     "output_type": "stream",
     "text": [
      "Counterfactual flips misclassified instance label correctly\n"
     ]
    },
    {
     "name": "stderr",
     "output_type": "stream",
     "text": [
      "100%|██████████| 1/1 [00:01<00:00,  1.05s/it]\n"
     ]
    },
    {
     "name": "stdout",
     "output_type": "stream",
     "text": [
      "Counterfactual flips misclassified instance label correctly\n"
     ]
    },
    {
     "name": "stderr",
     "output_type": "stream",
     "text": [
      "100%|██████████| 1/1 [00:00<00:00,  1.19it/s]\n",
      "100%|██████████| 1/1 [00:00<00:00,  1.35it/s]\n"
     ]
    },
    {
     "name": "stdout",
     "output_type": "stream",
     "text": [
      "Counterfactual flips misclassified instance label correctly\n"
     ]
    },
    {
     "name": "stderr",
     "output_type": "stream",
     "text": [
      "100%|██████████| 1/1 [00:00<00:00,  1.23it/s]\n"
     ]
    },
    {
     "name": "stdout",
     "output_type": "stream",
     "text": [
      "Counterfactual flips misclassified instance label correctly\n",
      "Proxy does not fit for instance 2686\n",
      "Proxy does not fit for instance 2687\n",
      "Proxy does not fit for instance 2688\n"
     ]
    },
    {
     "name": "stderr",
     "output_type": "stream",
     "text": [
      "100%|██████████| 1/1 [00:01<00:00,  1.59s/it]"
     ]
    },
    {
     "name": "stdout",
     "output_type": "stream",
     "text": [
      "No Counterfactuals found for the given configuration, perhaps try with different parameters... ; total time taken: 00 min 01 sec\n",
      "No counterfactuals found for  2689\n"
     ]
    },
    {
     "name": "stderr",
     "output_type": "stream",
     "text": [
      "\n",
      "100%|██████████| 1/1 [00:02<00:00,  2.05s/it]"
     ]
    },
    {
     "name": "stdout",
     "output_type": "stream",
     "text": [
      "No Counterfactuals found for the given configuration, perhaps try with different parameters... ; total time taken: 00 min 02 sec\n",
      "No counterfactuals found for  2690\n"
     ]
    },
    {
     "name": "stderr",
     "output_type": "stream",
     "text": [
      "\n"
     ]
    },
    {
     "name": "stdout",
     "output_type": "stream",
     "text": [
      "Proxy does not fit for instance 2691\n",
      "Proxy does not fit for instance 2692\n"
     ]
    },
    {
     "name": "stderr",
     "output_type": "stream",
     "text": [
      "100%|██████████| 1/1 [00:01<00:00,  1.19s/it]\n"
     ]
    },
    {
     "name": "stdout",
     "output_type": "stream",
     "text": [
      "Counterfactual flips misclassified instance label correctly\n"
     ]
    },
    {
     "name": "stderr",
     "output_type": "stream",
     "text": [
      "100%|██████████| 1/1 [00:00<00:00,  1.10it/s]\n"
     ]
    },
    {
     "name": "stdout",
     "output_type": "stream",
     "text": [
      "Counterfactual flips misclassified instance label correctly\n"
     ]
    },
    {
     "name": "stderr",
     "output_type": "stream",
     "text": [
      "100%|██████████| 1/1 [00:00<00:00,  1.21it/s]\n"
     ]
    },
    {
     "name": "stdout",
     "output_type": "stream",
     "text": [
      "Counterfactual flips misclassified instance label correctly\n"
     ]
    },
    {
     "name": "stderr",
     "output_type": "stream",
     "text": [
      "100%|██████████| 1/1 [00:00<00:00,  1.10it/s]\n"
     ]
    },
    {
     "name": "stdout",
     "output_type": "stream",
     "text": [
      "Counterfactual flips misclassified instance label correctly\n"
     ]
    },
    {
     "name": "stderr",
     "output_type": "stream",
     "text": [
      "100%|██████████| 1/1 [00:00<00:00,  1.14it/s]\n"
     ]
    },
    {
     "name": "stdout",
     "output_type": "stream",
     "text": [
      "Counterfactual flips misclassified instance label correctly\n"
     ]
    },
    {
     "name": "stderr",
     "output_type": "stream",
     "text": [
      "100%|██████████| 1/1 [00:01<00:00,  1.61s/it]"
     ]
    },
    {
     "name": "stdout",
     "output_type": "stream",
     "text": [
      "No Counterfactuals found for the given configuration, perhaps try with different parameters... ; total time taken: 00 min 01 sec\n",
      "No counterfactuals found for  2711\n"
     ]
    },
    {
     "name": "stderr",
     "output_type": "stream",
     "text": [
      "\n",
      "100%|██████████| 1/1 [00:01<00:00,  1.56s/it]"
     ]
    },
    {
     "name": "stdout",
     "output_type": "stream",
     "text": [
      "No Counterfactuals found for the given configuration, perhaps try with different parameters... ; total time taken: 00 min 01 sec\n",
      "No counterfactuals found for  2712\n"
     ]
    },
    {
     "name": "stderr",
     "output_type": "stream",
     "text": [
      "\n",
      "100%|██████████| 1/1 [00:01<00:00,  1.65s/it]"
     ]
    },
    {
     "name": "stdout",
     "output_type": "stream",
     "text": [
      "No Counterfactuals found for the given configuration, perhaps try with different parameters... ; total time taken: 00 min 01 sec\n",
      "No counterfactuals found for  2713\n"
     ]
    },
    {
     "name": "stderr",
     "output_type": "stream",
     "text": [
      "\n",
      "100%|██████████| 1/1 [00:01<00:00,  1.29s/it]\n"
     ]
    },
    {
     "name": "stdout",
     "output_type": "stream",
     "text": [
      "Counterfactual flips misclassified instance label correctly\n"
     ]
    },
    {
     "name": "stderr",
     "output_type": "stream",
     "text": [
      "100%|██████████| 1/1 [00:01<00:00,  1.45s/it]"
     ]
    },
    {
     "name": "stdout",
     "output_type": "stream",
     "text": [
      "No Counterfactuals found for the given configuration, perhaps try with different parameters... ; total time taken: 00 min 01 sec\n",
      "No counterfactuals found for  2721\n"
     ]
    },
    {
     "name": "stderr",
     "output_type": "stream",
     "text": [
      "\n"
     ]
    },
    {
     "name": "stdout",
     "output_type": "stream",
     "text": [
      "Proxy does not fit for instance 2722\n"
     ]
    },
    {
     "name": "stderr",
     "output_type": "stream",
     "text": [
      "100%|██████████| 1/1 [00:00<00:00,  1.19it/s]\n"
     ]
    },
    {
     "name": "stdout",
     "output_type": "stream",
     "text": [
      "Counterfactual flips misclassified instance label correctly\n"
     ]
    },
    {
     "name": "stderr",
     "output_type": "stream",
     "text": [
      "100%|██████████| 1/1 [00:00<00:00,  1.16it/s]\n"
     ]
    },
    {
     "name": "stdout",
     "output_type": "stream",
     "text": [
      "Counterfactual flips misclassified instance label correctly\n"
     ]
    },
    {
     "name": "stderr",
     "output_type": "stream",
     "text": [
      "100%|██████████| 1/1 [00:00<00:00,  1.08it/s]\n"
     ]
    },
    {
     "name": "stdout",
     "output_type": "stream",
     "text": [
      "Counterfactual flips misclassified instance label correctly\n"
     ]
    },
    {
     "name": "stderr",
     "output_type": "stream",
     "text": [
      "100%|██████████| 1/1 [00:01<00:00,  1.46s/it]"
     ]
    },
    {
     "name": "stdout",
     "output_type": "stream",
     "text": [
      "No Counterfactuals found for the given configuration, perhaps try with different parameters... ; total time taken: 00 min 01 sec\n",
      "No counterfactuals found for  2737\n"
     ]
    },
    {
     "name": "stderr",
     "output_type": "stream",
     "text": [
      "\n",
      "100%|██████████| 1/1 [00:01<00:00,  1.80s/it]"
     ]
    },
    {
     "name": "stdout",
     "output_type": "stream",
     "text": [
      "No Counterfactuals found for the given configuration, perhaps try with different parameters... ; total time taken: 00 min 01 sec\n",
      "No counterfactuals found for  2738\n"
     ]
    },
    {
     "name": "stderr",
     "output_type": "stream",
     "text": [
      "\n",
      "100%|██████████| 1/1 [00:01<00:00,  1.61s/it]"
     ]
    },
    {
     "name": "stdout",
     "output_type": "stream",
     "text": [
      "No Counterfactuals found for the given configuration, perhaps try with different parameters... ; total time taken: 00 min 01 sec\n",
      "No counterfactuals found for  2739\n"
     ]
    },
    {
     "name": "stderr",
     "output_type": "stream",
     "text": [
      "\n",
      "100%|██████████| 1/1 [00:00<00:00,  1.18it/s]\n",
      "100%|██████████| 1/1 [00:01<00:00,  1.60s/it]\n"
     ]
    },
    {
     "name": "stdout",
     "output_type": "stream",
     "text": [
      "Counterfactual flips misclassified instance label correctly\n"
     ]
    },
    {
     "name": "stderr",
     "output_type": "stream",
     "text": [
      "100%|██████████| 1/1 [00:00<00:00,  1.28it/s]\n"
     ]
    },
    {
     "name": "stdout",
     "output_type": "stream",
     "text": [
      "Counterfactual flips misclassified instance label correctly\n"
     ]
    },
    {
     "name": "stderr",
     "output_type": "stream",
     "text": [
      "100%|██████████| 1/1 [00:00<00:00,  1.24it/s]\n"
     ]
    },
    {
     "name": "stdout",
     "output_type": "stream",
     "text": [
      "Counterfactual flips misclassified instance label correctly\n"
     ]
    },
    {
     "name": "stderr",
     "output_type": "stream",
     "text": [
      "100%|██████████| 1/1 [00:00<00:00,  1.21it/s]\n"
     ]
    },
    {
     "name": "stdout",
     "output_type": "stream",
     "text": [
      "Counterfactual flips misclassified instance label correctly\n"
     ]
    },
    {
     "name": "stderr",
     "output_type": "stream",
     "text": [
      "100%|██████████| 1/1 [00:00<00:00,  1.27it/s]\n"
     ]
    },
    {
     "name": "stdout",
     "output_type": "stream",
     "text": [
      "Counterfactual flips misclassified instance label correctly\n"
     ]
    },
    {
     "name": "stderr",
     "output_type": "stream",
     "text": [
      "100%|██████████| 1/1 [00:00<00:00,  1.31it/s]\n"
     ]
    },
    {
     "name": "stdout",
     "output_type": "stream",
     "text": [
      "Counterfactual flips misclassified instance label correctly\n"
     ]
    },
    {
     "name": "stderr",
     "output_type": "stream",
     "text": [
      "100%|██████████| 1/1 [00:00<00:00,  1.09it/s]\n",
      "100%|██████████| 1/1 [00:00<00:00,  1.01it/s]\n"
     ]
    },
    {
     "name": "stdout",
     "output_type": "stream",
     "text": [
      "Counterfactual flips misclassified instance label correctly\n"
     ]
    },
    {
     "name": "stderr",
     "output_type": "stream",
     "text": [
      "100%|██████████| 1/1 [00:00<00:00,  1.09it/s]\n"
     ]
    },
    {
     "name": "stdout",
     "output_type": "stream",
     "text": [
      "Counterfactual flips misclassified instance label correctly\n",
      "Proxy does not fit for instance 2774\n"
     ]
    },
    {
     "name": "stderr",
     "output_type": "stream",
     "text": [
      "100%|██████████| 1/1 [00:01<00:00,  1.54s/it]"
     ]
    },
    {
     "name": "stdout",
     "output_type": "stream",
     "text": [
      "No Counterfactuals found for the given configuration, perhaps try with different parameters... ; total time taken: 00 min 01 sec\n",
      "No counterfactuals found for  2775\n"
     ]
    },
    {
     "name": "stderr",
     "output_type": "stream",
     "text": [
      "\n",
      "100%|██████████| 1/1 [00:01<00:00,  1.55s/it]"
     ]
    },
    {
     "name": "stdout",
     "output_type": "stream",
     "text": [
      "No Counterfactuals found for the given configuration, perhaps try with different parameters... ; total time taken: 00 min 01 sec\n",
      "No counterfactuals found for  2776\n"
     ]
    },
    {
     "name": "stderr",
     "output_type": "stream",
     "text": [
      "\n",
      "100%|██████████| 1/1 [00:00<00:00,  1.17it/s]\n",
      "100%|██████████| 1/1 [00:00<00:00,  1.40it/s]\n"
     ]
    },
    {
     "name": "stdout",
     "output_type": "stream",
     "text": [
      "Counterfactual flips misclassified instance label correctly\n"
     ]
    },
    {
     "name": "stderr",
     "output_type": "stream",
     "text": [
      "100%|██████████| 1/1 [00:00<00:00,  1.37it/s]\n"
     ]
    },
    {
     "name": "stdout",
     "output_type": "stream",
     "text": [
      "Counterfactual flips misclassified instance label correctly\n"
     ]
    },
    {
     "name": "stderr",
     "output_type": "stream",
     "text": [
      "100%|██████████| 1/1 [00:00<00:00,  1.28it/s]\n",
      "100%|██████████| 1/1 [00:00<00:00,  1.40it/s]\n"
     ]
    },
    {
     "name": "stdout",
     "output_type": "stream",
     "text": [
      "Proxy does not fit for instance 2789\n",
      "Proxy does not fit for instance 2793\n"
     ]
    },
    {
     "name": "stderr",
     "output_type": "stream",
     "text": [
      "100%|██████████| 1/1 [00:00<00:00,  1.24it/s]\n"
     ]
    },
    {
     "name": "stdout",
     "output_type": "stream",
     "text": [
      "Counterfactual flips misclassified instance label correctly\n",
      "Proxy does not fit for instance 2796\n",
      "Proxy does not fit for instance 2797\n"
     ]
    },
    {
     "name": "stderr",
     "output_type": "stream",
     "text": [
      "100%|██████████| 1/1 [00:00<00:00,  1.47it/s]\n"
     ]
    },
    {
     "name": "stdout",
     "output_type": "stream",
     "text": [
      "Counterfactual flips misclassified instance label correctly\n",
      "Proxy does not fit for instance 2799\n"
     ]
    },
    {
     "name": "stderr",
     "output_type": "stream",
     "text": [
      "100%|██████████| 1/1 [00:00<00:00,  1.30it/s]\n"
     ]
    },
    {
     "name": "stdout",
     "output_type": "stream",
     "text": [
      "Counterfactual flips misclassified instance label correctly\n"
     ]
    },
    {
     "name": "stderr",
     "output_type": "stream",
     "text": [
      "100%|██████████| 1/1 [00:00<00:00,  1.46it/s]\n"
     ]
    },
    {
     "name": "stdout",
     "output_type": "stream",
     "text": [
      "Counterfactual flips misclassified instance label correctly\n"
     ]
    },
    {
     "name": "stderr",
     "output_type": "stream",
     "text": [
      "100%|██████████| 1/1 [00:01<00:00,  1.43s/it]"
     ]
    },
    {
     "name": "stdout",
     "output_type": "stream",
     "text": [
      "No Counterfactuals found for the given configuration, perhaps try with different parameters... ; total time taken: 00 min 01 sec\n",
      "No counterfactuals found for  2802\n"
     ]
    },
    {
     "name": "stderr",
     "output_type": "stream",
     "text": [
      "\n",
      "100%|██████████| 1/1 [00:00<00:00,  1.42it/s]\n"
     ]
    },
    {
     "name": "stdout",
     "output_type": "stream",
     "text": [
      "Counterfactual flips misclassified instance label correctly\n"
     ]
    },
    {
     "name": "stderr",
     "output_type": "stream",
     "text": [
      "100%|██████████| 1/1 [00:00<00:00,  1.00it/s]\n"
     ]
    },
    {
     "name": "stdout",
     "output_type": "stream",
     "text": [
      "Counterfactual flips misclassified instance label correctly\n"
     ]
    },
    {
     "data": {
      "text/plain": [
       "{'no_cf': [1904,\n",
       "  1907,\n",
       "  1909,\n",
       "  1910,\n",
       "  1980,\n",
       "  1981,\n",
       "  1992,\n",
       "  1993,\n",
       "  1994,\n",
       "  1995,\n",
       "  1996,\n",
       "  1997,\n",
       "  2001,\n",
       "  2039,\n",
       "  2046,\n",
       "  2047,\n",
       "  2050,\n",
       "  2051,\n",
       "  2086,\n",
       "  2102,\n",
       "  2104,\n",
       "  2105,\n",
       "  2119,\n",
       "  2120,\n",
       "  2126,\n",
       "  2127,\n",
       "  2129,\n",
       "  2130,\n",
       "  2131,\n",
       "  2133,\n",
       "  2135,\n",
       "  2136,\n",
       "  2144,\n",
       "  2152,\n",
       "  2153,\n",
       "  2155,\n",
       "  2196,\n",
       "  2197,\n",
       "  2201,\n",
       "  2202,\n",
       "  2216,\n",
       "  2219,\n",
       "  2223,\n",
       "  2227,\n",
       "  2232,\n",
       "  2252,\n",
       "  2253,\n",
       "  2254,\n",
       "  2255,\n",
       "  2256,\n",
       "  2285,\n",
       "  2295,\n",
       "  2328,\n",
       "  2334,\n",
       "  2337,\n",
       "  2349,\n",
       "  2352,\n",
       "  2353,\n",
       "  2360,\n",
       "  2361,\n",
       "  2387,\n",
       "  2388,\n",
       "  2443,\n",
       "  2458,\n",
       "  2483,\n",
       "  2506,\n",
       "  2528,\n",
       "  2549,\n",
       "  2629,\n",
       "  2641,\n",
       "  2644,\n",
       "  2659,\n",
       "  2689,\n",
       "  2690,\n",
       "  2711,\n",
       "  2712,\n",
       "  2713,\n",
       "  2721,\n",
       "  2737,\n",
       "  2738,\n",
       "  2739,\n",
       "  2775,\n",
       "  2776,\n",
       "  2802],\n",
       " 'found_cf': [1885,\n",
       "  1889,\n",
       "  1890,\n",
       "  1891,\n",
       "  1897,\n",
       "  1898,\n",
       "  1901,\n",
       "  1908,\n",
       "  1911,\n",
       "  1942,\n",
       "  1943,\n",
       "  1965,\n",
       "  1966,\n",
       "  1967,\n",
       "  1968,\n",
       "  1983,\n",
       "  2036,\n",
       "  2037,\n",
       "  2038,\n",
       "  2040,\n",
       "  2041,\n",
       "  2042,\n",
       "  2043,\n",
       "  2044,\n",
       "  2045,\n",
       "  2048,\n",
       "  2049,\n",
       "  2054,\n",
       "  2055,\n",
       "  2056,\n",
       "  2057,\n",
       "  2074,\n",
       "  2081,\n",
       "  2082,\n",
       "  2083,\n",
       "  2101,\n",
       "  2103,\n",
       "  2106,\n",
       "  2121,\n",
       "  2122,\n",
       "  2123,\n",
       "  2124,\n",
       "  2125,\n",
       "  2128,\n",
       "  2134,\n",
       "  2145,\n",
       "  2146,\n",
       "  2147,\n",
       "  2148,\n",
       "  2162,\n",
       "  2163,\n",
       "  2164,\n",
       "  2165,\n",
       "  2169,\n",
       "  2171,\n",
       "  2172,\n",
       "  2173,\n",
       "  2174,\n",
       "  2175,\n",
       "  2176,\n",
       "  2189,\n",
       "  2190,\n",
       "  2191,\n",
       "  2195,\n",
       "  2214,\n",
       "  2215,\n",
       "  2220,\n",
       "  2221,\n",
       "  2222,\n",
       "  2229,\n",
       "  2230,\n",
       "  2231,\n",
       "  2248,\n",
       "  2249,\n",
       "  2250,\n",
       "  2263,\n",
       "  2267,\n",
       "  2268,\n",
       "  2269,\n",
       "  2270,\n",
       "  2275,\n",
       "  2276,\n",
       "  2277,\n",
       "  2283,\n",
       "  2284,\n",
       "  2287,\n",
       "  2288,\n",
       "  2316,\n",
       "  2317,\n",
       "  2318,\n",
       "  2325,\n",
       "  2326,\n",
       "  2327,\n",
       "  2333,\n",
       "  2335,\n",
       "  2336,\n",
       "  2350,\n",
       "  2351,\n",
       "  2368,\n",
       "  2390,\n",
       "  2407,\n",
       "  2411,\n",
       "  2429,\n",
       "  2430,\n",
       "  2431,\n",
       "  2432,\n",
       "  2433,\n",
       "  2434,\n",
       "  2441,\n",
       "  2442,\n",
       "  2448,\n",
       "  2449,\n",
       "  2457,\n",
       "  2460,\n",
       "  2461,\n",
       "  2462,\n",
       "  2463,\n",
       "  2464,\n",
       "  2476,\n",
       "  2486,\n",
       "  2488,\n",
       "  2495,\n",
       "  2497,\n",
       "  2505,\n",
       "  2507,\n",
       "  2509,\n",
       "  2510,\n",
       "  2512,\n",
       "  2519,\n",
       "  2529,\n",
       "  2541,\n",
       "  2566,\n",
       "  2567,\n",
       "  2574,\n",
       "  2627,\n",
       "  2630,\n",
       "  2631,\n",
       "  2632,\n",
       "  2633,\n",
       "  2640,\n",
       "  2660,\n",
       "  2661,\n",
       "  2662,\n",
       "  2664,\n",
       "  2666,\n",
       "  2667,\n",
       "  2672,\n",
       "  2674,\n",
       "  2675,\n",
       "  2693,\n",
       "  2694,\n",
       "  2696,\n",
       "  2697,\n",
       "  2698,\n",
       "  2720,\n",
       "  2723,\n",
       "  2724,\n",
       "  2730,\n",
       "  2740,\n",
       "  2748,\n",
       "  2757,\n",
       "  2758,\n",
       "  2759,\n",
       "  2760,\n",
       "  2761,\n",
       "  2762,\n",
       "  2763,\n",
       "  2773,\n",
       "  2777,\n",
       "  2778,\n",
       "  2779,\n",
       "  2782,\n",
       "  2785,\n",
       "  2795,\n",
       "  2798,\n",
       "  2800,\n",
       "  2801,\n",
       "  2803,\n",
       "  2804],\n",
       " 'cf_predicts_good': [1885,\n",
       "  1889,\n",
       "  1890,\n",
       "  1891,\n",
       "  1898,\n",
       "  1911,\n",
       "  1942,\n",
       "  1943,\n",
       "  1965,\n",
       "  1966,\n",
       "  1967,\n",
       "  1968,\n",
       "  1983,\n",
       "  2036,\n",
       "  2037,\n",
       "  2038,\n",
       "  2040,\n",
       "  2042,\n",
       "  2043,\n",
       "  2044,\n",
       "  2045,\n",
       "  2048,\n",
       "  2049,\n",
       "  2057,\n",
       "  2074,\n",
       "  2081,\n",
       "  2082,\n",
       "  2083,\n",
       "  2101,\n",
       "  2121,\n",
       "  2122,\n",
       "  2123,\n",
       "  2124,\n",
       "  2125,\n",
       "  2134,\n",
       "  2145,\n",
       "  2146,\n",
       "  2147,\n",
       "  2148,\n",
       "  2162,\n",
       "  2163,\n",
       "  2164,\n",
       "  2165,\n",
       "  2169,\n",
       "  2171,\n",
       "  2172,\n",
       "  2173,\n",
       "  2175,\n",
       "  2176,\n",
       "  2190,\n",
       "  2195,\n",
       "  2214,\n",
       "  2215,\n",
       "  2221,\n",
       "  2222,\n",
       "  2229,\n",
       "  2230,\n",
       "  2231,\n",
       "  2249,\n",
       "  2250,\n",
       "  2263,\n",
       "  2267,\n",
       "  2269,\n",
       "  2270,\n",
       "  2275,\n",
       "  2276,\n",
       "  2277,\n",
       "  2283,\n",
       "  2284,\n",
       "  2287,\n",
       "  2288,\n",
       "  2317,\n",
       "  2318,\n",
       "  2325,\n",
       "  2326,\n",
       "  2327,\n",
       "  2333,\n",
       "  2335,\n",
       "  2336,\n",
       "  2390,\n",
       "  2407,\n",
       "  2411,\n",
       "  2429,\n",
       "  2430,\n",
       "  2431,\n",
       "  2434,\n",
       "  2441,\n",
       "  2442,\n",
       "  2448,\n",
       "  2449,\n",
       "  2457,\n",
       "  2460,\n",
       "  2461,\n",
       "  2462,\n",
       "  2463,\n",
       "  2464,\n",
       "  2486,\n",
       "  2488,\n",
       "  2505,\n",
       "  2507,\n",
       "  2510,\n",
       "  2519,\n",
       "  2529,\n",
       "  2541,\n",
       "  2567,\n",
       "  2574,\n",
       "  2627,\n",
       "  2630,\n",
       "  2631,\n",
       "  2632,\n",
       "  2633,\n",
       "  2640,\n",
       "  2666,\n",
       "  2667,\n",
       "  2674,\n",
       "  2675,\n",
       "  2693,\n",
       "  2694,\n",
       "  2696,\n",
       "  2697,\n",
       "  2698,\n",
       "  2720,\n",
       "  2723,\n",
       "  2724,\n",
       "  2730,\n",
       "  2748,\n",
       "  2757,\n",
       "  2758,\n",
       "  2759,\n",
       "  2760,\n",
       "  2761,\n",
       "  2763,\n",
       "  2773,\n",
       "  2778,\n",
       "  2779,\n",
       "  2795,\n",
       "  2798,\n",
       "  2800,\n",
       "  2801,\n",
       "  2803,\n",
       "  2804],\n",
       " 'proxy_not_fit': [1883,\n",
       "  1884,\n",
       "  1886,\n",
       "  1887,\n",
       "  1888,\n",
       "  1892,\n",
       "  1893,\n",
       "  1894,\n",
       "  1895,\n",
       "  1896,\n",
       "  1899,\n",
       "  1905,\n",
       "  1906,\n",
       "  1912,\n",
       "  1913,\n",
       "  1914,\n",
       "  1915,\n",
       "  1916,\n",
       "  1917,\n",
       "  1918,\n",
       "  1919,\n",
       "  1920,\n",
       "  1921,\n",
       "  1922,\n",
       "  1923,\n",
       "  1924,\n",
       "  1925,\n",
       "  1926,\n",
       "  1927,\n",
       "  1928,\n",
       "  1929,\n",
       "  1930,\n",
       "  1931,\n",
       "  1932,\n",
       "  1933,\n",
       "  1934,\n",
       "  1935,\n",
       "  1936,\n",
       "  1937,\n",
       "  1938,\n",
       "  1939,\n",
       "  1940,\n",
       "  1941,\n",
       "  1944,\n",
       "  1945,\n",
       "  1946,\n",
       "  1947,\n",
       "  1948,\n",
       "  1949,\n",
       "  1950,\n",
       "  1951,\n",
       "  1952,\n",
       "  1953,\n",
       "  1954,\n",
       "  1955,\n",
       "  1956,\n",
       "  1957,\n",
       "  1958,\n",
       "  1959,\n",
       "  1960,\n",
       "  1961,\n",
       "  1962,\n",
       "  1963,\n",
       "  1964,\n",
       "  1969,\n",
       "  1970,\n",
       "  1977,\n",
       "  1978,\n",
       "  1979,\n",
       "  1982,\n",
       "  1984,\n",
       "  1985,\n",
       "  1986,\n",
       "  1987,\n",
       "  1988,\n",
       "  1989,\n",
       "  1990,\n",
       "  1991,\n",
       "  1998,\n",
       "  1999,\n",
       "  2000,\n",
       "  2002,\n",
       "  2003,\n",
       "  2004,\n",
       "  2005,\n",
       "  2006,\n",
       "  2007,\n",
       "  2008,\n",
       "  2009,\n",
       "  2010,\n",
       "  2011,\n",
       "  2012,\n",
       "  2013,\n",
       "  2014,\n",
       "  2015,\n",
       "  2016,\n",
       "  2017,\n",
       "  2018,\n",
       "  2019,\n",
       "  2020,\n",
       "  2021,\n",
       "  2022,\n",
       "  2023,\n",
       "  2024,\n",
       "  2025,\n",
       "  2026,\n",
       "  2027,\n",
       "  2028,\n",
       "  2029,\n",
       "  2030,\n",
       "  2031,\n",
       "  2032,\n",
       "  2033,\n",
       "  2034,\n",
       "  2035,\n",
       "  2052,\n",
       "  2053,\n",
       "  2059,\n",
       "  2060,\n",
       "  2061,\n",
       "  2062,\n",
       "  2063,\n",
       "  2064,\n",
       "  2065,\n",
       "  2066,\n",
       "  2067,\n",
       "  2068,\n",
       "  2069,\n",
       "  2070,\n",
       "  2071,\n",
       "  2072,\n",
       "  2073,\n",
       "  2075,\n",
       "  2076,\n",
       "  2077,\n",
       "  2078,\n",
       "  2079,\n",
       "  2080,\n",
       "  2087,\n",
       "  2088,\n",
       "  2089,\n",
       "  2090,\n",
       "  2091,\n",
       "  2092,\n",
       "  2093,\n",
       "  2094,\n",
       "  2095,\n",
       "  2096,\n",
       "  2097,\n",
       "  2098,\n",
       "  2099,\n",
       "  2100,\n",
       "  2107,\n",
       "  2108,\n",
       "  2109,\n",
       "  2110,\n",
       "  2111,\n",
       "  2112,\n",
       "  2113,\n",
       "  2114,\n",
       "  2115,\n",
       "  2116,\n",
       "  2117,\n",
       "  2118,\n",
       "  2132,\n",
       "  2137,\n",
       "  2138,\n",
       "  2139,\n",
       "  2140,\n",
       "  2141,\n",
       "  2142,\n",
       "  2143,\n",
       "  2149,\n",
       "  2150,\n",
       "  2151,\n",
       "  2154,\n",
       "  2156,\n",
       "  2157,\n",
       "  2158,\n",
       "  2159,\n",
       "  2160,\n",
       "  2161,\n",
       "  2166,\n",
       "  2167,\n",
       "  2168,\n",
       "  2170,\n",
       "  2177,\n",
       "  2181,\n",
       "  2182,\n",
       "  2183,\n",
       "  2184,\n",
       "  2185,\n",
       "  2186,\n",
       "  2187,\n",
       "  2188,\n",
       "  2194,\n",
       "  2198,\n",
       "  2199,\n",
       "  2200,\n",
       "  2208,\n",
       "  2209,\n",
       "  2210,\n",
       "  2211,\n",
       "  2212,\n",
       "  2213,\n",
       "  2217,\n",
       "  2218,\n",
       "  2224,\n",
       "  2225,\n",
       "  2226,\n",
       "  2228,\n",
       "  2233,\n",
       "  2234,\n",
       "  2235,\n",
       "  2236,\n",
       "  2237,\n",
       "  2238,\n",
       "  2239,\n",
       "  2240,\n",
       "  2241,\n",
       "  2242,\n",
       "  2243,\n",
       "  2244,\n",
       "  2245,\n",
       "  2246,\n",
       "  2247,\n",
       "  2251,\n",
       "  2257,\n",
       "  2258,\n",
       "  2259,\n",
       "  2260,\n",
       "  2261,\n",
       "  2262,\n",
       "  2264,\n",
       "  2265,\n",
       "  2266,\n",
       "  2271,\n",
       "  2272,\n",
       "  2273,\n",
       "  2274,\n",
       "  2278,\n",
       "  2279,\n",
       "  2280,\n",
       "  2281,\n",
       "  2282,\n",
       "  2286,\n",
       "  2289,\n",
       "  2290,\n",
       "  2291,\n",
       "  2292,\n",
       "  2293,\n",
       "  2294,\n",
       "  2296,\n",
       "  2297,\n",
       "  2298,\n",
       "  2299,\n",
       "  2300,\n",
       "  2301,\n",
       "  2302,\n",
       "  2303,\n",
       "  2304,\n",
       "  2305,\n",
       "  2306,\n",
       "  2307,\n",
       "  2308,\n",
       "  2309,\n",
       "  2310,\n",
       "  2311,\n",
       "  2312,\n",
       "  2314,\n",
       "  2315,\n",
       "  2319,\n",
       "  2320,\n",
       "  2321,\n",
       "  2322,\n",
       "  2323,\n",
       "  2324,\n",
       "  2330,\n",
       "  2331,\n",
       "  2332,\n",
       "  2338,\n",
       "  2339,\n",
       "  2340,\n",
       "  2341,\n",
       "  2342,\n",
       "  2343,\n",
       "  2344,\n",
       "  2345,\n",
       "  2346,\n",
       "  2347,\n",
       "  2348,\n",
       "  2362,\n",
       "  2363,\n",
       "  2364,\n",
       "  2365,\n",
       "  2366,\n",
       "  2389,\n",
       "  2445,\n",
       "  2446,\n",
       "  2447,\n",
       "  2481,\n",
       "  2482,\n",
       "  2484,\n",
       "  2485,\n",
       "  2487,\n",
       "  2489,\n",
       "  2490,\n",
       "  2491,\n",
       "  2492,\n",
       "  2493,\n",
       "  2494,\n",
       "  2498,\n",
       "  2499,\n",
       "  2511,\n",
       "  2542,\n",
       "  2543,\n",
       "  2544,\n",
       "  2545,\n",
       "  2546,\n",
       "  2547,\n",
       "  2548,\n",
       "  2663,\n",
       "  2686,\n",
       "  2687,\n",
       "  2688,\n",
       "  2691,\n",
       "  2692,\n",
       "  2722,\n",
       "  2774,\n",
       "  2789,\n",
       "  2793,\n",
       "  2796,\n",
       "  2797,\n",
       "  2799]}"
      ]
     },
     "execution_count": 22,
     "metadata": {},
     "output_type": "execute_result"
    }
   ],
   "source": [
    "no_cf,found_cf,cf_predicts_good,proxy_not_fit = generate_cf_for_all(train,train_labels,find_false_instances(missclassified, false_positive=False),opt)\n",
    "false_negatives_dict = {'no_cf':no_cf,\n",
    "                        'found_cf':found_cf,\n",
    "                        'cf_predicts_good': cf_predicts_good,\n",
    "                        'proxy_not_fit':proxy_not_fit}\n",
    "MODELS_DICT_PATH = 'false_negatives_dict_big.pkl'\n",
    "with open(MODELS_DICT_PATH, 'wb') as f:\n",
    "            pickle.dump(false_negatives_dict, f)\n",
    "false_negatives_dict"
   ]
  },
  {
   "cell_type": "code",
   "execution_count": 27,
   "metadata": {},
   "outputs": [
    {
     "name": "stdout",
     "output_type": "stream",
     "text": [
      "No cf found for false_positives 13\n",
      "CF found for false_positives 379\n",
      "CF predicts good found for false_positives 342\n",
      "Proxy didnt fit for 0\n"
     ]
    }
   ],
   "source": [
    "print('No cf found for false_positives',len(false_positives_dict['no_cf']))\n",
    "print('CF found for false_positives',len(false_positives_dict['found_cf']))\n",
    "print('CF predicts good found for false_positives',len(false_positives_dict['cf_predicts_good']))\n",
    "print('Proxy didnt fit for',len(false_positives_dict['proxy_not_fit']))"
   ]
  },
  {
   "cell_type": "code",
   "execution_count": 28,
   "metadata": {},
   "outputs": [
    {
     "name": "stdout",
     "output_type": "stream",
     "text": [
      "No cf found for false_negatives 84\n",
      "CF found for false_negatives 179\n",
      "CF predicts good found for false_negatives 141\n",
      "Proxy didnt fit for 334\n"
     ]
    }
   ],
   "source": [
    "print('No cf found for false_negatives',len(false_negatives_dict['no_cf']))\n",
    "print('CF found for false_negatives',len(false_negatives_dict['found_cf']))\n",
    "print('CF predicts good found for false_negatives',len(false_negatives_dict['cf_predicts_good']))\n",
    "print('Proxy didnt fit for',len(false_negatives_dict['proxy_not_fit']))"
   ]
  }
 ],
 "metadata": {
  "kernelspec": {
   "display_name": "ExtremeXP",
   "language": "python",
   "name": "python3"
  },
  "language_info": {
   "codemirror_mode": {
    "name": "ipython",
    "version": 3
   },
   "file_extension": ".py",
   "mimetype": "text/x-python",
   "name": "python",
   "nbconvert_exporter": "python",
   "pygments_lexer": "ipython3",
   "version": "3.11.5"
  }
 },
 "nbformat": 4,
 "nbformat_minor": 2
}
